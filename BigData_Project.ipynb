{
  "cells": [
    {
      "cell_type": "markdown",
      "metadata": {
        "id": "view-in-github",
        "colab_type": "text"
      },
      "source": [
        "<a href=\"https://colab.research.google.com/github/Shalinda99/nyc-taxi-spark-analysis-revenue-prof/blob/main/BigData_Project.ipynb\" target=\"_parent\"><img src=\"https://colab.research.google.com/assets/colab-badge.svg\" alt=\"Open In Colab\"/></a>"
      ]
    },
    {
      "cell_type": "markdown",
      "id": "ebb04f3c-7ce5-445e-b5b8-cedc8c629064",
      "metadata": {
        "id": "ebb04f3c-7ce5-445e-b5b8-cedc8c629064"
      },
      "source": [
        "# NYC-Taxi Data Analysis\n"
      ]
    },
    {
      "cell_type": "code",
      "execution_count": 6,
      "id": "415c5b17-3a57-4945-840a-51cbc0c3f2c7",
      "metadata": {
        "id": "415c5b17-3a57-4945-840a-51cbc0c3f2c7"
      },
      "outputs": [],
      "source": [
        "# # Import necessary libraries\n",
        "# from pyspark.sql import SparkSession\n",
        "# from pyspark.sql.functions import col, to_timestamp, hour, dayofweek, year, month, dayofmonth\n",
        "# import os\n",
        "# import matplotlib.pyplot as plt"
      ]
    },
    {
      "cell_type": "markdown",
      "id": "bf59e700-14a1-44d5-ad92-a65bfa5c484d",
      "metadata": {
        "id": "bf59e700-14a1-44d5-ad92-a65bfa5c484d"
      },
      "source": [
        "#### Data Ingestion ,Preprocessing and Feature Engineering\n",
        "\n",
        "In this section, we load multiple monthly NYC Yellow Taxi Parquet files, clean the data, convert date fields to timestamps, and engineer new time-based features (e.g., hour, day of week). The resulting DataFrame is cached and registered as a temporary SQL view for reuse in later sections."
      ]
    },
    {
      "cell_type": "code",
      "execution_count": 7,
      "id": "52429e39-6cbc-499e-a682-d063c664c5d6",
      "metadata": {
        "id": "52429e39-6cbc-499e-a682-d063c664c5d6"
      },
      "outputs": [],
      "source": [
        "# # Initialize SparkSession\n",
        "# spark = SparkSession.builder \\\n",
        "#     .appName(\"NYC Taxi Data Analysis\") \\\n",
        "#     .config(\"spark.sql.execution.arrow.enabled\", \"true\") \\\n",
        "#     .getOrCreate()"
      ]
    },
    {
      "cell_type": "code",
      "execution_count": 8,
      "id": "c89c6234-18ca-4208-af06-fa123ea8a066",
      "metadata": {
        "id": "c89c6234-18ca-4208-af06-fa123ea8a066"
      },
      "outputs": [],
      "source": [
        "# data_dir = \"data\"\n",
        "# file_prefix = \"yellow_tripdata\"\n",
        "\n",
        "# file_paths = []\n",
        "\n",
        "# # Add files for 2020–2024 (all months)\n",
        "# for year in range(2020, 2025):\n",
        "#     for month in range(1, 13):\n",
        "#         path = os.path.join(data_dir, f\"{file_prefix}_{year}-{str(month).zfill(2)}.parquet\")\n",
        "#         if os.path.exists(path):\n",
        "#             file_paths.append(path)\n",
        "\n",
        "# # Add files for 2025 (only Jan–Mar)\n",
        "# for month in range(1, 4):\n",
        "#     path = os.path.join(data_dir, f\"{file_prefix}_2025-{str(month).zfill(2)}.parquet\")\n",
        "#     if os.path.exists(path):\n",
        "#         file_paths.append(path)\n"
      ]
    },
    {
      "cell_type": "code",
      "execution_count": 9,
      "id": "ad160dee-ba03-48a9-9537-108255712126",
      "metadata": {
        "id": "ad160dee-ba03-48a9-9537-108255712126"
      },
      "outputs": [],
      "source": [
        "# # 🧾 Load multiple monthly Parquet files\n",
        "# if file_paths:\n",
        "#     df = spark.read.parquet(*file_paths)\n",
        "# else:\n",
        "#     print(\"No valid files found.\")"
      ]
    },
    {
      "cell_type": "code",
      "source": [
        "!pip install -q pyspark\n",
        "\n",
        "# 🔧 Import required libraries\n",
        "from pyspark.sql import SparkSession\n",
        "from pyspark.sql.functions import col, to_timestamp, hour, dayofweek, year, month, dayofmonth, sum as spark_sum\n",
        "import os\n",
        "import glob\n",
        "import matplotlib.pyplot as plt\n",
        "import seaborn as sns\n",
        "\n",
        "# 🔗 Mount Google Drive\n",
        "from google.colab import drive\n",
        "drive.mount('/content/drive')\n",
        "\n",
        "# 📁 Path to your data folder inside Google Drive\n",
        "data_dir = \"/content/drive/MyDrive/nyc_data\"\n",
        "file_prefix = \"yellow_tripdata\"\n",
        "\n",
        "# ✅ Initialize SparkSession\n",
        "spark = SparkSession.builder \\\n",
        "    .appName(\"NYC Taxi Data Analysis\") \\\n",
        "    .config(\"spark.sql.execution.arrow.enabled\", \"true\") \\\n",
        "    .getOrCreate()\n",
        "\n",
        "# 🗂️ Collect matching file paths from the directory\n",
        "file_paths = []\n",
        "\n",
        "# Files from 2020–2024 (all months)\n",
        "for year in range(2020, 2025):\n",
        "    for month in range(1, 13):\n",
        "        path = os.path.join(data_dir, f\"{file_prefix}_{year}-{str(month).zfill(2)}.parquet\")\n",
        "        if os.path.exists(path):\n",
        "            file_paths.append(path)\n",
        "\n",
        "# Files for 2025 (Jan–Mar)\n",
        "for month in range(1, 4):\n",
        "    path = os.path.join(data_dir, f\"{file_prefix}_2025-{str(month).zfill(2)}.parquet\")\n",
        "    if os.path.exists(path):\n",
        "        file_paths.append(path)\n",
        "\n",
        "# ✅ Load Parquet files if available\n",
        "if file_paths:\n",
        "    print(f\"Loading {len(file_paths)} Parquet files...\")\n",
        "    df = spark.read.parquet(*file_paths)\n",
        "    df.cache()\n",
        "    print(\"✅ DataFrame loaded and cached.\")\n",
        "else:\n",
        "    print(\"❌ No valid Parquet files found.\")\n",
        "\n",
        "# 🔍 Preview DataFrame\n",
        "df.show(5)\n"
      ],
      "metadata": {
        "colab": {
          "base_uri": "https://localhost:8080/"
        },
        "id": "eIAQO2n3aIdB",
        "outputId": "562a9428-9ee9-45b7-9b68-b675c22f1606"
      },
      "id": "eIAQO2n3aIdB",
      "execution_count": 10,
      "outputs": [
        {
          "output_type": "stream",
          "name": "stdout",
          "text": [
            "Mounted at /content/drive\n",
            "Loading 3 Parquet files...\n",
            "✅ DataFrame loaded and cached.\n",
            "+--------+--------------------+---------------------+---------------+-------------+----------+------------------+------------+------------+------------+-----------+-----+-------+----------+------------+---------------------+------------+--------------------+-----------+------------------+\n",
            "|VendorID|tpep_pickup_datetime|tpep_dropoff_datetime|passenger_count|trip_distance|RatecodeID|store_and_fwd_flag|PULocationID|DOLocationID|payment_type|fare_amount|extra|mta_tax|tip_amount|tolls_amount|improvement_surcharge|total_amount|congestion_surcharge|Airport_fee|cbd_congestion_fee|\n",
            "+--------+--------------------+---------------------+---------------+-------------+----------+------------------+------------+------------+------------+-----------+-----+-------+----------+------------+---------------------+------------+--------------------+-----------+------------------+\n",
            "|       1| 2025-03-01 00:17:16|  2025-03-01 00:25:52|              1|          0.9|         1|                 N|         140|         236|           1|        7.9|  3.5|    0.5|       2.6|         0.0|                  1.0|        15.5|                 2.5|        0.0|               0.0|\n",
            "|       1| 2025-03-01 00:37:38|  2025-03-01 00:43:51|              1|          0.6|         1|                 N|         140|         262|           1|        6.5|  3.5|    0.5|       2.3|         0.0|                  1.0|        13.8|                 2.5|        0.0|               0.0|\n",
            "|       2| 2025-03-01 00:24:35|  2025-03-01 00:39:49|              1|         1.94|         1|                 N|         161|          68|           1|       14.9|  1.0|    0.5|      5.16|         0.0|                  1.0|       25.81|                 2.5|        0.0|              0.75|\n",
            "|       2| 2025-03-01 00:56:16|  2025-03-01 01:01:35|              2|         0.95|         1|                 N|         231|          13|           1|        7.2|  1.0|    0.5|      2.59|         0.0|                  1.0|       15.54|                 2.5|        0.0|              0.75|\n",
            "|       1| 2025-03-01 00:01:44|  2025-03-01 00:10:00|              1|          1.5|         1|                 N|         163|         236|           1|        8.6| 4.25|    0.5|      2.85|         0.0|                  1.0|        17.2|                 2.5|        0.0|              0.75|\n",
            "+--------+--------------------+---------------------+---------------+-------------+----------+------------------+------------+------------+------------+-----------+-----+-------+----------+------------+---------------------+------------+--------------------+-----------+------------------+\n",
            "only showing top 5 rows\n",
            "\n"
          ]
        }
      ]
    },
    {
      "cell_type": "code",
      "execution_count": 11,
      "id": "0d802403-c935-409f-9a23-4c62ca782cce",
      "metadata": {
        "colab": {
          "base_uri": "https://localhost:8080/"
        },
        "id": "0d802403-c935-409f-9a23-4c62ca782cce",
        "outputId": "dd79c57b-5f08-44b3-bf23-3a619e1ebe46"
      },
      "outputs": [
        {
          "output_type": "execute_result",
          "data": {
            "text/plain": [
              "DataFrame[VendorID: int, tpep_pickup_datetime: timestamp_ntz, tpep_dropoff_datetime: timestamp_ntz, passenger_count: bigint, trip_distance: double, RatecodeID: bigint, store_and_fwd_flag: string, PULocationID: int, DOLocationID: int, payment_type: bigint, fare_amount: double, extra: double, mta_tax: double, tip_amount: double, tolls_amount: double, improvement_surcharge: double, total_amount: double, congestion_surcharge: double, Airport_fee: double, cbd_congestion_fee: double]"
            ]
          },
          "metadata": {},
          "execution_count": 11
        }
      ],
      "source": [
        "df"
      ]
    },
    {
      "cell_type": "code",
      "execution_count": 12,
      "id": "7194f174-c748-41d4-81fb-f3fb1d9b782c",
      "metadata": {
        "colab": {
          "base_uri": "https://localhost:8080/"
        },
        "id": "7194f174-c748-41d4-81fb-f3fb1d9b782c",
        "outputId": "ec520872-e29a-47b4-abed-6eb3649eb7de"
      },
      "outputs": [
        {
          "output_type": "stream",
          "name": "stdout",
          "text": [
            "root\n",
            " |-- VendorID: integer (nullable = true)\n",
            " |-- tpep_pickup_datetime: timestamp_ntz (nullable = true)\n",
            " |-- tpep_dropoff_datetime: timestamp_ntz (nullable = true)\n",
            " |-- passenger_count: long (nullable = true)\n",
            " |-- trip_distance: double (nullable = true)\n",
            " |-- RatecodeID: long (nullable = true)\n",
            " |-- store_and_fwd_flag: string (nullable = true)\n",
            " |-- PULocationID: integer (nullable = true)\n",
            " |-- DOLocationID: integer (nullable = true)\n",
            " |-- payment_type: long (nullable = true)\n",
            " |-- fare_amount: double (nullable = true)\n",
            " |-- extra: double (nullable = true)\n",
            " |-- mta_tax: double (nullable = true)\n",
            " |-- tip_amount: double (nullable = true)\n",
            " |-- tolls_amount: double (nullable = true)\n",
            " |-- improvement_surcharge: double (nullable = true)\n",
            " |-- total_amount: double (nullable = true)\n",
            " |-- congestion_surcharge: double (nullable = true)\n",
            " |-- Airport_fee: double (nullable = true)\n",
            " |-- cbd_congestion_fee: double (nullable = true)\n",
            "\n"
          ]
        }
      ],
      "source": [
        "# Show schema\n",
        "df.printSchema()"
      ]
    },
    {
      "cell_type": "code",
      "execution_count": 13,
      "id": "45c6a3be-9596-49e9-b011-9976d091df87",
      "metadata": {
        "id": "45c6a3be-9596-49e9-b011-9976d091df87"
      },
      "outputs": [],
      "source": [
        "# df.show(3)"
      ]
    },
    {
      "cell_type": "code",
      "execution_count": 14,
      "id": "74a820f5-9c34-467d-b102-ec57df1f887b",
      "metadata": {
        "colab": {
          "base_uri": "https://localhost:8080/",
          "height": 163
        },
        "id": "74a820f5-9c34-467d-b102-ec57df1f887b",
        "outputId": "f98e53c1-aff6-4cc9-e151-88ee896d10cc"
      },
      "outputs": [
        {
          "output_type": "execute_result",
          "data": {
            "text/plain": [
              "<pandas.io.formats.style.Styler at 0x7c5ba4380190>"
            ],
            "text/html": [
              "<style type=\"text/css\">\n",
              "</style>\n",
              "<table id=\"T_6763e\" class=\"dataframe\">\n",
              "  <thead>\n",
              "    <tr>\n",
              "      <th class=\"blank level0\" >&nbsp;</th>\n",
              "      <th id=\"T_6763e_level0_col0\" class=\"col_heading level0 col0\" >VendorID</th>\n",
              "      <th id=\"T_6763e_level0_col1\" class=\"col_heading level0 col1\" >tpep_pickup_datetime</th>\n",
              "      <th id=\"T_6763e_level0_col2\" class=\"col_heading level0 col2\" >tpep_dropoff_datetime</th>\n",
              "      <th id=\"T_6763e_level0_col3\" class=\"col_heading level0 col3\" >passenger_count</th>\n",
              "      <th id=\"T_6763e_level0_col4\" class=\"col_heading level0 col4\" >trip_distance</th>\n",
              "      <th id=\"T_6763e_level0_col5\" class=\"col_heading level0 col5\" >RatecodeID</th>\n",
              "      <th id=\"T_6763e_level0_col6\" class=\"col_heading level0 col6\" >store_and_fwd_flag</th>\n",
              "      <th id=\"T_6763e_level0_col7\" class=\"col_heading level0 col7\" >PULocationID</th>\n",
              "      <th id=\"T_6763e_level0_col8\" class=\"col_heading level0 col8\" >DOLocationID</th>\n",
              "      <th id=\"T_6763e_level0_col9\" class=\"col_heading level0 col9\" >payment_type</th>\n",
              "      <th id=\"T_6763e_level0_col10\" class=\"col_heading level0 col10\" >fare_amount</th>\n",
              "      <th id=\"T_6763e_level0_col11\" class=\"col_heading level0 col11\" >extra</th>\n",
              "      <th id=\"T_6763e_level0_col12\" class=\"col_heading level0 col12\" >mta_tax</th>\n",
              "      <th id=\"T_6763e_level0_col13\" class=\"col_heading level0 col13\" >tip_amount</th>\n",
              "      <th id=\"T_6763e_level0_col14\" class=\"col_heading level0 col14\" >tolls_amount</th>\n",
              "      <th id=\"T_6763e_level0_col15\" class=\"col_heading level0 col15\" >improvement_surcharge</th>\n",
              "      <th id=\"T_6763e_level0_col16\" class=\"col_heading level0 col16\" >total_amount</th>\n",
              "      <th id=\"T_6763e_level0_col17\" class=\"col_heading level0 col17\" >congestion_surcharge</th>\n",
              "      <th id=\"T_6763e_level0_col18\" class=\"col_heading level0 col18\" >Airport_fee</th>\n",
              "      <th id=\"T_6763e_level0_col19\" class=\"col_heading level0 col19\" >cbd_congestion_fee</th>\n",
              "    </tr>\n",
              "  </thead>\n",
              "  <tbody>\n",
              "    <tr>\n",
              "      <th id=\"T_6763e_level0_row0\" class=\"row_heading level0 row0\" >0</th>\n",
              "      <td id=\"T_6763e_row0_col0\" class=\"data row0 col0\" >1</td>\n",
              "      <td id=\"T_6763e_row0_col1\" class=\"data row0 col1\" >2025-03-01 00:17:16</td>\n",
              "      <td id=\"T_6763e_row0_col2\" class=\"data row0 col2\" >2025-03-01 00:25:52</td>\n",
              "      <td id=\"T_6763e_row0_col3\" class=\"data row0 col3\" >1</td>\n",
              "      <td id=\"T_6763e_row0_col4\" class=\"data row0 col4\" >0.900000</td>\n",
              "      <td id=\"T_6763e_row0_col5\" class=\"data row0 col5\" >1</td>\n",
              "      <td id=\"T_6763e_row0_col6\" class=\"data row0 col6\" >N</td>\n",
              "      <td id=\"T_6763e_row0_col7\" class=\"data row0 col7\" >140</td>\n",
              "      <td id=\"T_6763e_row0_col8\" class=\"data row0 col8\" >236</td>\n",
              "      <td id=\"T_6763e_row0_col9\" class=\"data row0 col9\" >1</td>\n",
              "      <td id=\"T_6763e_row0_col10\" class=\"data row0 col10\" >7.900000</td>\n",
              "      <td id=\"T_6763e_row0_col11\" class=\"data row0 col11\" >3.500000</td>\n",
              "      <td id=\"T_6763e_row0_col12\" class=\"data row0 col12\" >0.500000</td>\n",
              "      <td id=\"T_6763e_row0_col13\" class=\"data row0 col13\" >2.600000</td>\n",
              "      <td id=\"T_6763e_row0_col14\" class=\"data row0 col14\" >0.000000</td>\n",
              "      <td id=\"T_6763e_row0_col15\" class=\"data row0 col15\" >1.000000</td>\n",
              "      <td id=\"T_6763e_row0_col16\" class=\"data row0 col16\" >15.500000</td>\n",
              "      <td id=\"T_6763e_row0_col17\" class=\"data row0 col17\" >2.500000</td>\n",
              "      <td id=\"T_6763e_row0_col18\" class=\"data row0 col18\" >0.000000</td>\n",
              "      <td id=\"T_6763e_row0_col19\" class=\"data row0 col19\" >0.000000</td>\n",
              "    </tr>\n",
              "    <tr>\n",
              "      <th id=\"T_6763e_level0_row1\" class=\"row_heading level0 row1\" >1</th>\n",
              "      <td id=\"T_6763e_row1_col0\" class=\"data row1 col0\" >1</td>\n",
              "      <td id=\"T_6763e_row1_col1\" class=\"data row1 col1\" >2025-03-01 00:37:38</td>\n",
              "      <td id=\"T_6763e_row1_col2\" class=\"data row1 col2\" >2025-03-01 00:43:51</td>\n",
              "      <td id=\"T_6763e_row1_col3\" class=\"data row1 col3\" >1</td>\n",
              "      <td id=\"T_6763e_row1_col4\" class=\"data row1 col4\" >0.600000</td>\n",
              "      <td id=\"T_6763e_row1_col5\" class=\"data row1 col5\" >1</td>\n",
              "      <td id=\"T_6763e_row1_col6\" class=\"data row1 col6\" >N</td>\n",
              "      <td id=\"T_6763e_row1_col7\" class=\"data row1 col7\" >140</td>\n",
              "      <td id=\"T_6763e_row1_col8\" class=\"data row1 col8\" >262</td>\n",
              "      <td id=\"T_6763e_row1_col9\" class=\"data row1 col9\" >1</td>\n",
              "      <td id=\"T_6763e_row1_col10\" class=\"data row1 col10\" >6.500000</td>\n",
              "      <td id=\"T_6763e_row1_col11\" class=\"data row1 col11\" >3.500000</td>\n",
              "      <td id=\"T_6763e_row1_col12\" class=\"data row1 col12\" >0.500000</td>\n",
              "      <td id=\"T_6763e_row1_col13\" class=\"data row1 col13\" >2.300000</td>\n",
              "      <td id=\"T_6763e_row1_col14\" class=\"data row1 col14\" >0.000000</td>\n",
              "      <td id=\"T_6763e_row1_col15\" class=\"data row1 col15\" >1.000000</td>\n",
              "      <td id=\"T_6763e_row1_col16\" class=\"data row1 col16\" >13.800000</td>\n",
              "      <td id=\"T_6763e_row1_col17\" class=\"data row1 col17\" >2.500000</td>\n",
              "      <td id=\"T_6763e_row1_col18\" class=\"data row1 col18\" >0.000000</td>\n",
              "      <td id=\"T_6763e_row1_col19\" class=\"data row1 col19\" >0.000000</td>\n",
              "    </tr>\n",
              "    <tr>\n",
              "      <th id=\"T_6763e_level0_row2\" class=\"row_heading level0 row2\" >2</th>\n",
              "      <td id=\"T_6763e_row2_col0\" class=\"data row2 col0\" >2</td>\n",
              "      <td id=\"T_6763e_row2_col1\" class=\"data row2 col1\" >2025-03-01 00:24:35</td>\n",
              "      <td id=\"T_6763e_row2_col2\" class=\"data row2 col2\" >2025-03-01 00:39:49</td>\n",
              "      <td id=\"T_6763e_row2_col3\" class=\"data row2 col3\" >1</td>\n",
              "      <td id=\"T_6763e_row2_col4\" class=\"data row2 col4\" >1.940000</td>\n",
              "      <td id=\"T_6763e_row2_col5\" class=\"data row2 col5\" >1</td>\n",
              "      <td id=\"T_6763e_row2_col6\" class=\"data row2 col6\" >N</td>\n",
              "      <td id=\"T_6763e_row2_col7\" class=\"data row2 col7\" >161</td>\n",
              "      <td id=\"T_6763e_row2_col8\" class=\"data row2 col8\" >68</td>\n",
              "      <td id=\"T_6763e_row2_col9\" class=\"data row2 col9\" >1</td>\n",
              "      <td id=\"T_6763e_row2_col10\" class=\"data row2 col10\" >14.900000</td>\n",
              "      <td id=\"T_6763e_row2_col11\" class=\"data row2 col11\" >1.000000</td>\n",
              "      <td id=\"T_6763e_row2_col12\" class=\"data row2 col12\" >0.500000</td>\n",
              "      <td id=\"T_6763e_row2_col13\" class=\"data row2 col13\" >5.160000</td>\n",
              "      <td id=\"T_6763e_row2_col14\" class=\"data row2 col14\" >0.000000</td>\n",
              "      <td id=\"T_6763e_row2_col15\" class=\"data row2 col15\" >1.000000</td>\n",
              "      <td id=\"T_6763e_row2_col16\" class=\"data row2 col16\" >25.810000</td>\n",
              "      <td id=\"T_6763e_row2_col17\" class=\"data row2 col17\" >2.500000</td>\n",
              "      <td id=\"T_6763e_row2_col18\" class=\"data row2 col18\" >0.000000</td>\n",
              "      <td id=\"T_6763e_row2_col19\" class=\"data row2 col19\" >0.750000</td>\n",
              "    </tr>\n",
              "  </tbody>\n",
              "</table>\n"
            ]
          },
          "metadata": {},
          "execution_count": 14
        }
      ],
      "source": [
        "# Alternative way\n",
        "pandas_df = df.limit(3).toPandas()\n",
        "pandas_df.style.set_table_attributes('style=\"max-height:300px; overflow-y: auto; display:block;\"')"
      ]
    },
    {
      "cell_type": "markdown",
      "id": "8b5eb899-8ea2-4642-802e-a03942c1c9cc",
      "metadata": {
        "id": "8b5eb899-8ea2-4642-802e-a03942c1c9cc"
      },
      "source": [
        "\n",
        "#####  Data Type Conversion (datetime fields)\n",
        "Convert string-type datetime fields (tpep_pickup_datetime, tpep_dropoff_datetime) into timestamp data type, which allows for proper datetime operations (e.g., sorting, filtering by date, calculating durations)"
      ]
    },
    {
      "cell_type": "code",
      "execution_count": 15,
      "id": "98105f65-370f-42c7-aae0-f6c2efaf9459",
      "metadata": {
        "id": "98105f65-370f-42c7-aae0-f6c2efaf9459"
      },
      "outputs": [],
      "source": [
        "df = df.withColumn(\"pickup_datetime\", to_timestamp(\"tpep_pickup_datetime\")) \\\n",
        "       .withColumn(\"dropoff_datetime\", to_timestamp(\"tpep_dropoff_datetime\"))"
      ]
    },
    {
      "cell_type": "markdown",
      "id": "f3df9256-ff2c-418c-aff4-6f5ab84e4582",
      "metadata": {
        "id": "f3df9256-ff2c-418c-aff4-6f5ab84e4582"
      },
      "source": [
        "##### Counting and Filtering Invalid Entries\n",
        "Before removing invalid records, we count how many entries have non-positive values or missing timestamps. This helps assess data quality before applying the cleaning logic"
      ]
    },
    {
      "cell_type": "code",
      "execution_count": 16,
      "id": "b6e0fcb3-878e-480a-8668-96ef7410f00b",
      "metadata": {
        "colab": {
          "base_uri": "https://localhost:8080/"
        },
        "id": "b6e0fcb3-878e-480a-8668-96ef7410f00b",
        "outputId": "e33bf68a-b906-44f4-9ba6-5003e2656433"
      },
      "outputs": [
        {
          "output_type": "stream",
          "name": "stdout",
          "text": [
            "Number of invalid entries: 784674\n"
          ]
        }
      ],
      "source": [
        "# Basic Cleaning: Filter out invalid entries\n",
        "from pyspark.sql.functions import col\n",
        "\n",
        "# Define the filter condition for valid rows\n",
        "valid_condition = (\n",
        "    (col(\"trip_distance\") > 0) &\n",
        "    (col(\"fare_amount\") > 0) &\n",
        "    (col(\"pickup_datetime\").isNotNull()) &\n",
        "    (col(\"dropoff_datetime\").isNotNull())\n",
        ")\n",
        "\n",
        "# Count invalid entries (negation of the valid condition)\n",
        "invalid_count = df.filter(~valid_condition).count()\n",
        "print(f\"Number of invalid entries: {invalid_count}\")\n",
        "\n",
        "# Apply the filter to keep only valid rows\n",
        "df = df.filter(valid_condition)\n"
      ]
    },
    {
      "cell_type": "markdown",
      "id": "1b1c808f-a5e0-414a-ba2e-1f1289d131bb",
      "metadata": {
        "id": "1b1c808f-a5e0-414a-ba2e-1f1289d131bb"
      },
      "source": [
        "##### Extracting Date and Time Components from pickup_datetime\n",
        "To enable time-based analysis and modeling, we extract useful temporal features such as hour, day of the week, day of the month, month, and year from the pickup_datetime column"
      ]
    },
    {
      "cell_type": "code",
      "execution_count": 17,
      "id": "b8081b04-aad5-4172-97d5-416a058c3c63",
      "metadata": {
        "id": "b8081b04-aad5-4172-97d5-416a058c3c63"
      },
      "outputs": [],
      "source": [
        "# from pyspark.sql.functions import hour, dayofweek, dayofmonth, month, year\n",
        "\n",
        "# df = df.withColumn(\"pickup_hour\", hour(\"pickup_datetime\")) \\\n",
        "#        .withColumn(\"day_of_week\", dayofweek(\"pickup_datetime\")) \\\n",
        "#        .withColumn(\"day\", dayofmonth(\"pickup_datetime\")) \\\n",
        "#        .withColumn(\"month\", month(\"pickup_datetime\")) \\\n",
        "#        .withColumn(\"year\", year(\"pickup_datetime\"))"
      ]
    },
    {
      "cell_type": "code",
      "execution_count": 18,
      "id": "45879517-3fee-4215-8966-024850556a09",
      "metadata": {
        "id": "45879517-3fee-4215-8966-024850556a09"
      },
      "outputs": [],
      "source": [
        "# Show schema and sample data\n",
        "# df.printSchema()"
      ]
    },
    {
      "cell_type": "code",
      "execution_count": 19,
      "id": "92f8abda-4175-4f5a-a1db-f2a2f10fd8c7",
      "metadata": {
        "colab": {
          "base_uri": "https://localhost:8080/",
          "height": 215
        },
        "id": "92f8abda-4175-4f5a-a1db-f2a2f10fd8c7",
        "outputId": "0ccaaaf8-77ab-4b3e-a185-bbe62a378544"
      },
      "outputs": [
        {
          "output_type": "execute_result",
          "data": {
            "text/plain": [
              "<pandas.io.formats.style.Styler at 0x7c5b573406d0>"
            ],
            "text/html": [
              "<style type=\"text/css\">\n",
              "</style>\n",
              "<table id=\"T_a7c0f\" class=\"dataframe\">\n",
              "  <thead>\n",
              "    <tr>\n",
              "      <th class=\"blank level0\" >&nbsp;</th>\n",
              "      <th id=\"T_a7c0f_level0_col0\" class=\"col_heading level0 col0\" >VendorID</th>\n",
              "      <th id=\"T_a7c0f_level0_col1\" class=\"col_heading level0 col1\" >tpep_pickup_datetime</th>\n",
              "      <th id=\"T_a7c0f_level0_col2\" class=\"col_heading level0 col2\" >tpep_dropoff_datetime</th>\n",
              "      <th id=\"T_a7c0f_level0_col3\" class=\"col_heading level0 col3\" >passenger_count</th>\n",
              "      <th id=\"T_a7c0f_level0_col4\" class=\"col_heading level0 col4\" >trip_distance</th>\n",
              "      <th id=\"T_a7c0f_level0_col5\" class=\"col_heading level0 col5\" >RatecodeID</th>\n",
              "      <th id=\"T_a7c0f_level0_col6\" class=\"col_heading level0 col6\" >store_and_fwd_flag</th>\n",
              "      <th id=\"T_a7c0f_level0_col7\" class=\"col_heading level0 col7\" >PULocationID</th>\n",
              "      <th id=\"T_a7c0f_level0_col8\" class=\"col_heading level0 col8\" >DOLocationID</th>\n",
              "      <th id=\"T_a7c0f_level0_col9\" class=\"col_heading level0 col9\" >payment_type</th>\n",
              "      <th id=\"T_a7c0f_level0_col10\" class=\"col_heading level0 col10\" >fare_amount</th>\n",
              "      <th id=\"T_a7c0f_level0_col11\" class=\"col_heading level0 col11\" >extra</th>\n",
              "      <th id=\"T_a7c0f_level0_col12\" class=\"col_heading level0 col12\" >mta_tax</th>\n",
              "      <th id=\"T_a7c0f_level0_col13\" class=\"col_heading level0 col13\" >tip_amount</th>\n",
              "      <th id=\"T_a7c0f_level0_col14\" class=\"col_heading level0 col14\" >tolls_amount</th>\n",
              "      <th id=\"T_a7c0f_level0_col15\" class=\"col_heading level0 col15\" >improvement_surcharge</th>\n",
              "      <th id=\"T_a7c0f_level0_col16\" class=\"col_heading level0 col16\" >total_amount</th>\n",
              "      <th id=\"T_a7c0f_level0_col17\" class=\"col_heading level0 col17\" >congestion_surcharge</th>\n",
              "      <th id=\"T_a7c0f_level0_col18\" class=\"col_heading level0 col18\" >Airport_fee</th>\n",
              "      <th id=\"T_a7c0f_level0_col19\" class=\"col_heading level0 col19\" >cbd_congestion_fee</th>\n",
              "      <th id=\"T_a7c0f_level0_col20\" class=\"col_heading level0 col20\" >pickup_datetime</th>\n",
              "      <th id=\"T_a7c0f_level0_col21\" class=\"col_heading level0 col21\" >dropoff_datetime</th>\n",
              "    </tr>\n",
              "  </thead>\n",
              "  <tbody>\n",
              "    <tr>\n",
              "      <th id=\"T_a7c0f_level0_row0\" class=\"row_heading level0 row0\" >0</th>\n",
              "      <td id=\"T_a7c0f_row0_col0\" class=\"data row0 col0\" >1</td>\n",
              "      <td id=\"T_a7c0f_row0_col1\" class=\"data row0 col1\" >2025-03-01 00:17:16</td>\n",
              "      <td id=\"T_a7c0f_row0_col2\" class=\"data row0 col2\" >2025-03-01 00:25:52</td>\n",
              "      <td id=\"T_a7c0f_row0_col3\" class=\"data row0 col3\" >1</td>\n",
              "      <td id=\"T_a7c0f_row0_col4\" class=\"data row0 col4\" >0.900000</td>\n",
              "      <td id=\"T_a7c0f_row0_col5\" class=\"data row0 col5\" >1</td>\n",
              "      <td id=\"T_a7c0f_row0_col6\" class=\"data row0 col6\" >N</td>\n",
              "      <td id=\"T_a7c0f_row0_col7\" class=\"data row0 col7\" >140</td>\n",
              "      <td id=\"T_a7c0f_row0_col8\" class=\"data row0 col8\" >236</td>\n",
              "      <td id=\"T_a7c0f_row0_col9\" class=\"data row0 col9\" >1</td>\n",
              "      <td id=\"T_a7c0f_row0_col10\" class=\"data row0 col10\" >7.900000</td>\n",
              "      <td id=\"T_a7c0f_row0_col11\" class=\"data row0 col11\" >3.500000</td>\n",
              "      <td id=\"T_a7c0f_row0_col12\" class=\"data row0 col12\" >0.500000</td>\n",
              "      <td id=\"T_a7c0f_row0_col13\" class=\"data row0 col13\" >2.600000</td>\n",
              "      <td id=\"T_a7c0f_row0_col14\" class=\"data row0 col14\" >0.000000</td>\n",
              "      <td id=\"T_a7c0f_row0_col15\" class=\"data row0 col15\" >1.000000</td>\n",
              "      <td id=\"T_a7c0f_row0_col16\" class=\"data row0 col16\" >15.500000</td>\n",
              "      <td id=\"T_a7c0f_row0_col17\" class=\"data row0 col17\" >2.500000</td>\n",
              "      <td id=\"T_a7c0f_row0_col18\" class=\"data row0 col18\" >0.000000</td>\n",
              "      <td id=\"T_a7c0f_row0_col19\" class=\"data row0 col19\" >0.000000</td>\n",
              "      <td id=\"T_a7c0f_row0_col20\" class=\"data row0 col20\" >2025-03-01 00:17:16</td>\n",
              "      <td id=\"T_a7c0f_row0_col21\" class=\"data row0 col21\" >2025-03-01 00:25:52</td>\n",
              "    </tr>\n",
              "    <tr>\n",
              "      <th id=\"T_a7c0f_level0_row1\" class=\"row_heading level0 row1\" >1</th>\n",
              "      <td id=\"T_a7c0f_row1_col0\" class=\"data row1 col0\" >1</td>\n",
              "      <td id=\"T_a7c0f_row1_col1\" class=\"data row1 col1\" >2025-03-01 00:37:38</td>\n",
              "      <td id=\"T_a7c0f_row1_col2\" class=\"data row1 col2\" >2025-03-01 00:43:51</td>\n",
              "      <td id=\"T_a7c0f_row1_col3\" class=\"data row1 col3\" >1</td>\n",
              "      <td id=\"T_a7c0f_row1_col4\" class=\"data row1 col4\" >0.600000</td>\n",
              "      <td id=\"T_a7c0f_row1_col5\" class=\"data row1 col5\" >1</td>\n",
              "      <td id=\"T_a7c0f_row1_col6\" class=\"data row1 col6\" >N</td>\n",
              "      <td id=\"T_a7c0f_row1_col7\" class=\"data row1 col7\" >140</td>\n",
              "      <td id=\"T_a7c0f_row1_col8\" class=\"data row1 col8\" >262</td>\n",
              "      <td id=\"T_a7c0f_row1_col9\" class=\"data row1 col9\" >1</td>\n",
              "      <td id=\"T_a7c0f_row1_col10\" class=\"data row1 col10\" >6.500000</td>\n",
              "      <td id=\"T_a7c0f_row1_col11\" class=\"data row1 col11\" >3.500000</td>\n",
              "      <td id=\"T_a7c0f_row1_col12\" class=\"data row1 col12\" >0.500000</td>\n",
              "      <td id=\"T_a7c0f_row1_col13\" class=\"data row1 col13\" >2.300000</td>\n",
              "      <td id=\"T_a7c0f_row1_col14\" class=\"data row1 col14\" >0.000000</td>\n",
              "      <td id=\"T_a7c0f_row1_col15\" class=\"data row1 col15\" >1.000000</td>\n",
              "      <td id=\"T_a7c0f_row1_col16\" class=\"data row1 col16\" >13.800000</td>\n",
              "      <td id=\"T_a7c0f_row1_col17\" class=\"data row1 col17\" >2.500000</td>\n",
              "      <td id=\"T_a7c0f_row1_col18\" class=\"data row1 col18\" >0.000000</td>\n",
              "      <td id=\"T_a7c0f_row1_col19\" class=\"data row1 col19\" >0.000000</td>\n",
              "      <td id=\"T_a7c0f_row1_col20\" class=\"data row1 col20\" >2025-03-01 00:37:38</td>\n",
              "      <td id=\"T_a7c0f_row1_col21\" class=\"data row1 col21\" >2025-03-01 00:43:51</td>\n",
              "    </tr>\n",
              "    <tr>\n",
              "      <th id=\"T_a7c0f_level0_row2\" class=\"row_heading level0 row2\" >2</th>\n",
              "      <td id=\"T_a7c0f_row2_col0\" class=\"data row2 col0\" >2</td>\n",
              "      <td id=\"T_a7c0f_row2_col1\" class=\"data row2 col1\" >2025-03-01 00:24:35</td>\n",
              "      <td id=\"T_a7c0f_row2_col2\" class=\"data row2 col2\" >2025-03-01 00:39:49</td>\n",
              "      <td id=\"T_a7c0f_row2_col3\" class=\"data row2 col3\" >1</td>\n",
              "      <td id=\"T_a7c0f_row2_col4\" class=\"data row2 col4\" >1.940000</td>\n",
              "      <td id=\"T_a7c0f_row2_col5\" class=\"data row2 col5\" >1</td>\n",
              "      <td id=\"T_a7c0f_row2_col6\" class=\"data row2 col6\" >N</td>\n",
              "      <td id=\"T_a7c0f_row2_col7\" class=\"data row2 col7\" >161</td>\n",
              "      <td id=\"T_a7c0f_row2_col8\" class=\"data row2 col8\" >68</td>\n",
              "      <td id=\"T_a7c0f_row2_col9\" class=\"data row2 col9\" >1</td>\n",
              "      <td id=\"T_a7c0f_row2_col10\" class=\"data row2 col10\" >14.900000</td>\n",
              "      <td id=\"T_a7c0f_row2_col11\" class=\"data row2 col11\" >1.000000</td>\n",
              "      <td id=\"T_a7c0f_row2_col12\" class=\"data row2 col12\" >0.500000</td>\n",
              "      <td id=\"T_a7c0f_row2_col13\" class=\"data row2 col13\" >5.160000</td>\n",
              "      <td id=\"T_a7c0f_row2_col14\" class=\"data row2 col14\" >0.000000</td>\n",
              "      <td id=\"T_a7c0f_row2_col15\" class=\"data row2 col15\" >1.000000</td>\n",
              "      <td id=\"T_a7c0f_row2_col16\" class=\"data row2 col16\" >25.810000</td>\n",
              "      <td id=\"T_a7c0f_row2_col17\" class=\"data row2 col17\" >2.500000</td>\n",
              "      <td id=\"T_a7c0f_row2_col18\" class=\"data row2 col18\" >0.000000</td>\n",
              "      <td id=\"T_a7c0f_row2_col19\" class=\"data row2 col19\" >0.750000</td>\n",
              "      <td id=\"T_a7c0f_row2_col20\" class=\"data row2 col20\" >2025-03-01 00:24:35</td>\n",
              "      <td id=\"T_a7c0f_row2_col21\" class=\"data row2 col21\" >2025-03-01 00:39:49</td>\n",
              "    </tr>\n",
              "  </tbody>\n",
              "</table>\n"
            ]
          },
          "metadata": {},
          "execution_count": 19
        }
      ],
      "source": [
        "pandas_df = df.limit(3).toPandas()\n",
        "pandas_df.style.set_table_attributes('style=\"max-height:300px; overflow-y: auto; display:block;\"')"
      ]
    },
    {
      "cell_type": "code",
      "execution_count": 20,
      "id": "67efce72-b29c-4d62-be5b-bc67296f4e73",
      "metadata": {
        "id": "67efce72-b29c-4d62-be5b-bc67296f4e73"
      },
      "outputs": [],
      "source": [
        "# Register as Temp View for SQL Queries\n",
        "df.createOrReplaceTempView(\"yellow_taxi_trips\")"
      ]
    },
    {
      "cell_type": "code",
      "execution_count": 21,
      "id": "2fd09643-6f9c-4dca-adb1-541664043f5a",
      "metadata": {
        "colab": {
          "base_uri": "https://localhost:8080/"
        },
        "id": "2fd09643-6f9c-4dca-adb1-541664043f5a",
        "outputId": "797ed885-431a-47d5-df88-d9d7491adef7"
      },
      "outputs": [
        {
          "output_type": "stream",
          "name": "stdout",
          "text": [
            "+-------+-----------------+------------------+\n",
            "|summary|    trip_distance|       fare_amount|\n",
            "+-------+-----------------+------------------+\n",
            "|  count|         10413352|          10413352|\n",
            "|   mean|5.825326975406465| 18.52100415696364|\n",
            "| stddev|532.6486725379601|271.54243178813044|\n",
            "|    min|             0.01|              0.01|\n",
            "|    max|        281085.57|         863372.12|\n",
            "+-------+-----------------+------------------+\n",
            "\n"
          ]
        }
      ],
      "source": [
        "from pyspark.sql.functions import to_timestamp\n",
        "# Show basic statistics\n",
        "# print(\"Summary statistics (trip_distance, fare_amount):\")\n",
        "df.select(\"trip_distance\", \"fare_amount\").describe().show()"
      ]
    },
    {
      "cell_type": "markdown",
      "id": "7ca7fa29-4875-418e-a3f2-12ffc0736065",
      "metadata": {
        "id": "7ca7fa29-4875-418e-a3f2-12ffc0736065"
      },
      "source": [
        "## Section 1: Descriptive Analysis"
      ]
    },
    {
      "cell_type": "markdown",
      "id": "6435ddf8-2a28-4f71-84b1-f91893519985",
      "metadata": {
        "id": "6435ddf8-2a28-4f71-84b1-f91893519985"
      },
      "source": [
        "## Section 2: Geospatial Analysis\n",
        "\n",
        "This section focuses on spatial trends by identifying high-demand pickup zones. We aggregate pickups by location, merge with NYC taxi zone shapefile data, and create geospatial visualizations showing demand hotspots across the city."
      ]
    },
    {
      "cell_type": "markdown",
      "id": "6b4d31fc-c1ef-4b90-862b-f0bf18764c76",
      "metadata": {
        "id": "6b4d31fc-c1ef-4b90-862b-f0bf18764c76"
      },
      "source": [
        "Objective:\n",
        "- Identify popular pickup zones.\n",
        "\n",
        "- Visualize demand hotspots in NYC.\n",
        "\n",
        "- Optionally, export data for map visualization (e.g., with Folium or GeoPandas).\n",
        "\n"
      ]
    },
    {
      "cell_type": "code",
      "execution_count": null,
      "id": "668e9f2b-020e-4543-96da-52505071de0e",
      "metadata": {
        "id": "668e9f2b-020e-4543-96da-52505071de0e"
      },
      "outputs": [],
      "source": [
        "# zone_df = spark.read.csv(\"data/taxi_zone_lookup.csv\", header=True, inferSchema=True)\n",
        "\n",
        "# # Join with pickup zone\n",
        "# df = df.join(zone_df, df.PULocationID == zone_df.LocationID, \"left\") \\\n",
        "#        .withColumnRenamed(\"Borough\", \"pickup_borough\") \\\n",
        "#        .withColumnRenamed(\"Zone\", \"pickup_zone\") \\\n",
        "#        .drop(\"service_zone\", \"LocationID\")\n"
      ]
    },
    {
      "cell_type": "code",
      "execution_count": null,
      "id": "580d7542-d296-4a35-b074-a42a1d911144",
      "metadata": {
        "id": "580d7542-d296-4a35-b074-a42a1d911144"
      },
      "outputs": [],
      "source": [
        "pickup_counts = df.groupBy(\"pickup_borough\", \"pickup_zone\") \\\n",
        "                  .count() \\\n",
        "                  .orderBy(\"count\", ascending=False)\n",
        "\n",
        "pickup_counts.show(10, truncate=False)\n"
      ]
    },
    {
      "cell_type": "code",
      "execution_count": null,
      "id": "aaedf897-c94b-482f-9fef-6d6ff5286274",
      "metadata": {
        "id": "aaedf897-c94b-482f-9fef-6d6ff5286274"
      },
      "outputs": [],
      "source": [
        "pickup_pd = pickup_counts.toPandas()\n",
        "pickup_pd.to_csv(\"output/popular_pickup_zones.csv\", index=False)\n"
      ]
    },
    {
      "cell_type": "code",
      "execution_count": null,
      "id": "026295af-987c-4131-b7bc-769e52b4a143",
      "metadata": {
        "id": "026295af-987c-4131-b7bc-769e52b4a143"
      },
      "outputs": [],
      "source": [
        "import pandas as pd\n",
        "import matplotlib.pyplot as plt\n",
        "\n",
        "# Load the CSV you exported from Spark\n",
        "df2 = pd.read_csv(\"output/popular_pickup_zones.csv\")\n",
        "\n",
        "# Get top 10 zones\n",
        "top10 = df2.sort_values(by=\"count\", ascending=False).head(10)\n",
        "\n",
        "# Plot\n",
        "plt.figure(figsize=(12, 6))\n",
        "plt.barh(top10[\"pickup_zone\"], top10[\"count\"], color=\"skyblue\")\n",
        "plt.xlabel(\"Number of Pickups\")\n",
        "plt.ylabel(\"Pickup Zone\")\n",
        "plt.title(\"Top 10 NYC Taxi Pickup Zones (Jan 2025)\")\n",
        "plt.gca().invert_yaxis()\n",
        "plt.tight_layout()\n",
        "plt.show()\n"
      ]
    },
    {
      "cell_type": "code",
      "execution_count": null,
      "id": "5eeec306-dff1-483c-aca3-e62fa4eb26fd",
      "metadata": {
        "id": "5eeec306-dff1-483c-aca3-e62fa4eb26fd"
      },
      "outputs": [],
      "source": [
        "!pip install geopandas -q"
      ]
    },
    {
      "cell_type": "code",
      "execution_count": null,
      "id": "73dd46ea-d41d-4496-a1c2-cff91bcfa2ea",
      "metadata": {
        "id": "73dd46ea-d41d-4496-a1c2-cff91bcfa2ea"
      },
      "outputs": [],
      "source": [
        "# Group pickup counts by location\n",
        "pickup_by_zone = df.groupBy(\"PULocationID\").count()\n",
        "\n",
        "# Convert to Pandas\n",
        "pickup_pd = pickup_by_zone.toPandas()\n"
      ]
    },
    {
      "cell_type": "code",
      "execution_count": null,
      "id": "3d8e5759-53ab-4478-acd4-79fdf1ed9f8d",
      "metadata": {
        "id": "3d8e5759-53ab-4478-acd4-79fdf1ed9f8d"
      },
      "outputs": [],
      "source": [
        "# import geopandas as gpd\n",
        "\n",
        "# Load shapefile\n",
        "gdf = gpd.read_file(\"data/taxi_zones/taxi_zones.shp\")\n",
        "\n",
        "# Merge on LocationID\n",
        "merged = gdf.merge(pickup_pd, left_on=\"LocationID\", right_on=\"PULocationID\")\n"
      ]
    },
    {
      "cell_type": "code",
      "execution_count": null,
      "id": "4556154b-39d9-4fe5-910c-ce6feab7576d",
      "metadata": {
        "id": "4556154b-39d9-4fe5-910c-ce6feab7576d"
      },
      "outputs": [],
      "source": [
        "plt.figure(figsize=(12, 10))\n",
        "merged.plot(column=\"count\", cmap=\"OrRd\", legend=True, edgecolor=\"black\")\n",
        "plt.title(\"NYC Taxi Pickup Density by Zone (Jan 2025)\")\n",
        "plt.axis(\"off\")\n",
        "plt.show()\n"
      ]
    },
    {
      "cell_type": "markdown",
      "id": "fc3577ae-666d-47e9-81ae-2e7fa55db123",
      "metadata": {
        "id": "fc3577ae-666d-47e9-81ae-2e7fa55db123"
      },
      "source": [
        "## Section 3:Revenue and Profitability Analysis"
      ]
    },
    {
      "cell_type": "markdown",
      "source": [
        "This section focuses on evaluating the financial performance of NYC taxi services. It includes breakdowns of revenue, profitability patterns over time, and other financial indicators."
      ],
      "metadata": {
        "id": "hBK8iM2WMGEn"
      },
      "id": "hBK8iM2WMGEn"
    },
    {
      "cell_type": "markdown",
      "source": [
        "### A. Total Revenue Breakdown by Day, Month, and Vendor"
      ],
      "metadata": {
        "id": "1sFVkFlsMSuW"
      },
      "id": "1sFVkFlsMSuW"
    },
    {
      "cell_type": "markdown",
      "source": [
        "In this analysis, we break down the total fare revenue by:\n",
        "\n",
        "*   Day of the Week (to understand weekly trends)\n",
        "*   Month (to identify seasonal patterns)\n",
        "*   Vendor ID (to compare revenue performance between taxi companies)\n",
        "\n",
        "\n",
        "This helps uncover which days and months are most profitable and whether certain vendors consistently generate higher revenue."
      ],
      "metadata": {
        "id": "PTvuHlprMl73"
      },
      "id": "PTvuHlprMl73"
    },
    {
      "cell_type": "code",
      "execution_count": 43,
      "id": "034b5951-ec30-468b-a0e5-b6fccc03102a",
      "metadata": {
        "id": "034b5951-ec30-468b-a0e5-b6fccc03102a",
        "colab": {
          "base_uri": "https://localhost:8080/",
          "height": 1000
        },
        "outputId": "e718b57c-7ab3-4b67-8203-79234c64b7ab"
      },
      "outputs": [
        {
          "output_type": "display_data",
          "data": {
            "text/plain": [
              "<Figure size 600x400 with 1 Axes>"
            ],
            "image/png": "[encoded data removed]"
          },
          "metadata": {}
        },
        {
          "output_type": "display_data",
          "data": {
            "text/plain": [
              "<Figure size 600x400 with 1 Axes>"
            ],
            "image/png": "[encoded data removed]"
          },
          "metadata": {}
        },
        {
          "output_type": "display_data",
          "data": {
            "text/plain": [
              "<Figure size 600x400 with 1 Axes>"
            ],
            "image/png": "[encoded data removed]"
          },
          "metadata": {}
        },
        {
          "output_type": "stream",
          "name": "stdout",
          "text": [
            "Highest Revenue Day of Week: Day 7 with $30311839.11\n",
            "Highest Revenue Month: Month 3 with $73753664.01\n",
            "Highest Revenue Vendor: Vendor ID 2 with $150903734.03\n"
          ]
        }
      ],
      "source": [
        "from pyspark.sql.functions import dayofweek, month, year, sum as spark_sum\n",
        "import matplotlib.pyplot as plt\n",
        "\n",
        "# Create temporary view for SQL-style queries (optional but useful)\n",
        "df.createOrReplaceTempView(\"taxi_data\")\n",
        "\n",
        "# Total revenue by day of week\n",
        "revenue_by_day = df.withColumn(\"day_of_week\", dayofweek(\"pickup_datetime\")) \\\n",
        "                   .groupBy(\"day_of_week\") \\\n",
        "                   .agg(spark_sum(\"fare_amount\").alias(\"total_revenue\")) \\\n",
        "                   .orderBy(\"day_of_week\")\n",
        "\n",
        "# Total revenue by month\n",
        "revenue_by_month = df.withColumn(\"month\", month(\"pickup_datetime\")) \\\n",
        "                     .groupBy(\"month\") \\\n",
        "                     .agg(spark_sum(\"fare_amount\").alias(\"total_revenue\")) \\\n",
        "                     .orderBy(\"month\")\n",
        "\n",
        "# Total revenue by vendor\n",
        "revenue_by_vendor = df.groupBy(\"VendorID\") \\\n",
        "                      .agg(spark_sum(\"fare_amount\").alias(\"total_revenue\")) \\\n",
        "                      .orderBy(\"VendorID\")\n",
        "\n",
        "# Convert to Pandas for plotting\n",
        "rev_day_pd = revenue_by_day.toPandas()\n",
        "rev_month_pd = revenue_by_month.toPandas()\n",
        "rev_vendor_pd = revenue_by_vendor.toPandas()\n",
        "\n",
        "# Plot: Revenue by Day of Week\n",
        "plt.figure(figsize=(6,4))\n",
        "plt.bar(rev_day_pd['day_of_week'], rev_day_pd['total_revenue'], color='skyblue')\n",
        "plt.xlabel(\"Day of Week (1=Sun, 7=Sat)\")\n",
        "plt.ylabel(\"Total Revenue ($)\")\n",
        "plt.title(\"Total Revenue by Day of Week\")\n",
        "plt.grid(True)\n",
        "plt.show()\n",
        "\n",
        "# Plot: Revenue by Month\n",
        "plt.figure(figsize=(6,4))\n",
        "plt.bar(rev_month_pd['month'], rev_month_pd['total_revenue'], color='skyblue')\n",
        "plt.xlabel(\"Month\")\n",
        "plt.ylabel(\"Total Revenue ($)\")\n",
        "plt.title(\"Total Revenue by Month\")\n",
        "plt.grid(True)\n",
        "plt.show()\n",
        "\n",
        "# Plot: Revenue by Vendor\n",
        "plt.figure(figsize=(6,4))\n",
        "plt.bar(rev_vendor_pd['VendorID'].astype(str), rev_vendor_pd['total_revenue'], color='skyblue')\n",
        "plt.xlabel(\"Vendor ID\")\n",
        "plt.ylabel(\"Total Revenue ($)\")\n",
        "plt.title(\"Total Revenue by Vendor\")\n",
        "plt.grid(True)\n",
        "plt.show()\n",
        "\n",
        "# Find highest revenue by day of week\n",
        "max_day = revenue_by_day.orderBy(desc(\"total_revenue\")).first()\n",
        "\n",
        "# Find highest revenue by month\n",
        "max_month = revenue_by_month.orderBy(desc(\"total_revenue\")).first()\n",
        "\n",
        "# Find highest revenue by vendor\n",
        "max_vendor = revenue_by_vendor.orderBy(desc(\"total_revenue\")).first()\n",
        "\n",
        "print(f\"Highest Revenue Day of Week: Day {max_day['day_of_week']} with ${max_day['total_revenue']:.2f}\")\n",
        "print(f\"Highest Revenue Month: Month {max_month['month']} with ${max_month['total_revenue']:.2f}\")\n",
        "print(f\"Highest Revenue Vendor: Vendor ID {max_vendor['VendorID']} with ${max_vendor['total_revenue']:.2f}\")\n"
      ]
    },
    {
      "cell_type": "markdown",
      "source": [
        "The day of the week with the highest revenue shows when taxi demand is strongest during the week.\n",
        "\n",
        "The month with the highest revenue indicates the peak season for taxi rides.\n",
        "\n",
        "The vendor with the highest revenue consistently generates more business than others."
      ],
      "metadata": {
        "id": "fkbHzM_E2EAB"
      },
      "id": "fkbHzM_E2EAB"
    },
    {
      "cell_type": "markdown",
      "source": [
        "### B. Average Revenue per Mile and per Minute"
      ],
      "metadata": {
        "id": "pk6A_-mKOFGY"
      },
      "id": "pk6A_-mKOFGY"
    },
    {
      "cell_type": "markdown",
      "source": [
        "This section evaluates the earning efficiency of taxi trips by calculating:\n",
        "\n",
        "*   Average revenue per mile (how much is earned for every mile traveled)\n",
        "*   Average revenue per minute (how much is earned for each minute of trip time)\n",
        "\n",
        "These metrics help assess how profitable trips are relative to distance and time useful for comparing short vs. long trips or identifying inefficiencies."
      ],
      "metadata": {
        "id": "WCzGRVq2OOmO"
      },
      "id": "WCzGRVq2OOmO"
    },
    {
      "cell_type": "code",
      "source": [
        "from pyspark.sql.functions import col, unix_timestamp, avg\n",
        "\n",
        "# Calculate trip duration in minutes\n",
        "df_with_duration = df.withColumn(\"trip_duration_minutes\",\n",
        "    (unix_timestamp(\"dropoff_datetime\") - unix_timestamp(\"pickup_datetime\")) / 60\n",
        ")\n",
        "\n",
        "# Filter out invalid data: zero/negative trip distance or duration\n",
        "df_valid = df_with_duration.filter(\n",
        "    (col(\"trip_distance\") > 0) &\n",
        "    (col(\"trip_duration_minutes\") > 0) &\n",
        "    (col(\"fare_amount\") > 0)\n",
        ")\n",
        "\n",
        "# Calculate revenue per mile and per minute\n",
        "df_revenue_efficiency = df_valid.withColumn(\"revenue_per_mile\", col(\"fare_amount\") / col(\"trip_distance\")) \\\n",
        "                                .withColumn(\"revenue_per_minute\", col(\"fare_amount\") / col(\"trip_duration_minutes\"))\n",
        "\n",
        "# Compute average revenue per mile and minute\n",
        "avg_metrics = df_revenue_efficiency.select(\n",
        "    avg(\"revenue_per_mile\").alias(\"avg_revenue_per_mile\"),\n",
        "    avg(\"revenue_per_minute\").alias(\"avg_revenue_per_minute\")\n",
        ")\n",
        "\n",
        "# Show the result\n",
        "avg_metrics.show()\n"
      ],
      "metadata": {
        "colab": {
          "base_uri": "https://localhost:8080/"
        },
        "id": "x6kGbUJnOeR_",
        "outputId": "9f9ab26c-525f-4ce8-f67f-5664ad6f8bc5"
      },
      "id": "x6kGbUJnOeR_",
      "execution_count": 23,
      "outputs": [
        {
          "output_type": "stream",
          "name": "stdout",
          "text": [
            "+--------------------+----------------------+\n",
            "|avg_revenue_per_mile|avg_revenue_per_minute|\n",
            "+--------------------+----------------------+\n",
            "|  16.431028054270065|    1.9129080753037344|\n",
            "+--------------------+----------------------+\n",
            "\n"
          ]
        }
      ]
    },
    {
      "cell_type": "markdown",
      "source": [
        "We checked how much money taxis make for each mile they drive and each minute they spend on a trip.\n",
        "\n",
        "On average, taxis earn $16.43 per mile\n",
        "\n",
        "And about $1.91 per minute\n",
        "\n",
        "This means even short trips can earn good money, especially if they take more time. The high amount per mile may be because of short trips with high base fares."
      ],
      "metadata": {
        "id": "CizbKwZBO7_c"
      },
      "id": "CizbKwZBO7_c"
    },
    {
      "cell_type": "markdown",
      "source": [
        "### C. Tip Amount Distribution"
      ],
      "metadata": {
        "id": "kRTSqHKTPl8O"
      },
      "id": "kRTSqHKTPl8O"
    },
    {
      "cell_type": "markdown",
      "source": [
        "This part looks at how much tip people usually give. We check the average tip and how tips are spread out."
      ],
      "metadata": {
        "id": "D-48-njfPvCf"
      },
      "id": "D-48-njfPvCf"
    },
    {
      "cell_type": "code",
      "source": [
        "from pyspark.sql.functions import col, avg, stddev, min as spark_min, max as spark_max, desc\n",
        "\n",
        "# Filter valid tips\n",
        "df_tip_only = df.filter(col(\"tip_amount\") >= 0)\n",
        "\n",
        "# Calculate average and standard deviation\n",
        "tip_stats = df_tip_only.select(\n",
        "    avg(\"tip_amount\").alias(\"avg_tip\"),\n",
        "    stddev(\"tip_amount\").alias(\"stddev_tip\")\n",
        ").collect()[0]\n",
        "\n",
        "print(f\"✅ Average Tip: ${tip_stats['avg_tip']:.2f}\")\n",
        "print(f\"✅ Tip Standard Deviation: ${tip_stats['stddev_tip']:.2f}\")\n",
        "\n",
        "# Min, Max, Top 5\n",
        "min_tip = df_tip_only.select(spark_min(\"tip_amount\")).first()[0]\n",
        "max_tip = df_tip_only.select(spark_max(\"tip_amount\")).first()[0]\n",
        "top_5_tips = df_tip_only.select(\"tip_amount\").orderBy(desc(\"tip_amount\")).limit(5).toPandas()\n",
        "\n",
        "print(f\"✅ Min Tip: ${min_tip}\")\n",
        "print(f\"✅ Max Tip: ${max_tip}\")\n",
        "print(\"✅ Top 5 Tip Amounts:\")\n",
        "print(top_5_tips)\n",
        "\n",
        "# Sample & Filter out very high tips (outliers) to get a clearer graph\n",
        "tip_pd = df_tip_only.filter(col(\"tip_amount\") <= 20).select(\"tip_amount\").sample(False, 0.1, seed=1).toPandas()\n",
        "\n",
        "# Plot improved tip distribution\n",
        "plt.figure(figsize=(8,5))\n",
        "sns.histplot(tip_pd[\"tip_amount\"], bins=40, kde=True, color='skyblue')\n",
        "plt.xlabel(\"Tip Amount ($)\")\n",
        "plt.ylabel(\"Frequency\")\n",
        "plt.title(\"Improved Tip Amount Distribution (Filtered ≤ $20)\")\n",
        "plt.grid(True)\n",
        "plt.tight_layout()\n",
        "plt.show()\n"
      ],
      "metadata": {
        "colab": {
          "base_uri": "https://localhost:8080/",
          "height": 698
        },
        "id": "BWMeJYQ0P19H",
        "outputId": "42031e17-bad6-49b8-823e-358c154dceab"
      },
      "id": "BWMeJYQ0P19H",
      "execution_count": 30,
      "outputs": [
        {
          "output_type": "stream",
          "name": "stdout",
          "text": [
            "✅ Average Tip: $3.02\n",
            "✅ Tip Standard Deviation: $3.75\n",
            "✅ Min Tip: $0.0\n",
            "✅ Max Tip: $440.0\n",
            "✅ Top 5 Tip Amounts:\n",
            "   tip_amount\n",
            "0       440.0\n",
            "1       400.0\n",
            "2       333.3\n",
            "3       303.0\n",
            "4       285.0\n"
          ]
        },
        {
          "output_type": "display_data",
          "data": {
            "text/plain": [
              "<Figure size 800x500 with 1 Axes>"
            ],
            "image/png": "[encoded data removed]"
          },
          "metadata": {}
        }
      ]
    },
    {
      "cell_type": "markdown",
      "source": [
        "Most passengers give a small tip, with a wide range in tip amounts. While typical tips cluster around lower values, there are occasional very large tips, which are rare and considered outliers. This pattern shows tipping is common but varies greatly between rides."
      ],
      "metadata": {
        "id": "fwpSA_XL3XCR"
      },
      "id": "fwpSA_XL3XCR"
    },
    {
      "cell_type": "markdown",
      "source": [
        "### D. Identify Zones Generating Highest/Lowest Revenue"
      ],
      "metadata": {
        "id": "VoNtr0pWPo--"
      },
      "id": "VoNtr0pWPo--"
    },
    {
      "cell_type": "markdown",
      "source": [
        "In this part, we find out which pick up or drop off zones bring the most and least revenue. This helps understand where taxi drivers earn more money."
      ],
      "metadata": {
        "id": "jyrTRG4VQWs2"
      },
      "id": "jyrTRG4VQWs2"
    },
    {
      "cell_type": "code",
      "source": [
        "drive.mount('/content/drive')\n",
        "\n",
        "# Correct path to the file in your Google Drive\n",
        "zone_file_path = \"/content/drive/MyDrive/nyc_data/taxi_zone_lookup.csv\"\n",
        "\n",
        "# ✅ Use the correct file path when reading the CSV\n",
        "zones_df = spark.read.csv(zone_file_path, header=True, inferSchema=True)\n",
        "\n",
        "# Required imports\n",
        "from pyspark.sql.functions import sum as spark_sum, col\n",
        "\n",
        "# Calculate total revenue by pickup location\n",
        "pickup_revenue = df.groupBy(\"PULocationID\") \\\n",
        "                   .agg(spark_sum(\"fare_amount\").alias(\"total_revenue\")) \\\n",
        "                   .join(zones_df, df.PULocationID == zones_df.LocationID, \"left\") \\\n",
        "                   .select(\"Zone\", \"total_revenue\") \\\n",
        "                   .orderBy(col(\"total_revenue\").desc())\n",
        "\n",
        "# Show top 10 highest revenue zones\n",
        "print(\"🔝 Top 10 Pickup Zones by Revenue\")\n",
        "pickup_revenue.show(10, truncate=False)\n",
        "\n",
        "# Show bottom 10 zones (excluding zero revenue)\n",
        "print(\"🔻 Bottom 10 Pickup Zones by Revenue (Excluding Zero)\")\n",
        "pickup_revenue.filter(col(\"total_revenue\") > 0) \\\n",
        "              .orderBy(\"total_revenue\") \\\n",
        "              .show(10, truncate=False)\n"
      ],
      "metadata": {
        "colab": {
          "base_uri": "https://localhost:8080/"
        },
        "id": "0jTGydWnQoan",
        "outputId": "a6a7ac65-09d3-46f2-fb66-156daa92f227"
      },
      "id": "0jTGydWnQoan",
      "execution_count": 31,
      "outputs": [
        {
          "output_type": "stream",
          "name": "stdout",
          "text": [
            "Drive already mounted at /content/drive; to attempt to forcibly remount, call drive.mount(\"/content/drive\", force_remount=True).\n",
            "🔝 Top 10 Pickup Zones by Revenue\n",
            "+----------------------------+-------------------+\n",
            "|Zone                        |total_revenue      |\n",
            "+----------------------------+-------------------+\n",
            "|JFK Airport                 |2.510521516999928E7|\n",
            "|LaGuardia Airport           |1.251476369000018E7|\n",
            "|Midtown Center              |7689485.709999911  |\n",
            "|Times Sq/Theatre District   |6305155.189999995  |\n",
            "|Upper East Side South       |5961562.790000164  |\n",
            "|Upper East Side North       |5761498.170000258  |\n",
            "|Penn Station/Madison Sq West|5492176.730000049  |\n",
            "|Midtown East                |5185060.0000000475 |\n",
            "|East Chelsea                |4480965.280000075  |\n",
            "|Midtown North               |4431286.30000003   |\n",
            "+----------------------------+-------------------+\n",
            "only showing top 10 rows\n",
            "\n",
            "🔻 Bottom 10 Pickup Zones by Revenue (Excluding Zero)\n",
            "+---------------------------------+------------------+\n",
            "|Zone                             |total_revenue     |\n",
            "+---------------------------------+------------------+\n",
            "|Freshkills Park                  |12.8              |\n",
            "|Arden Heights                    |189.88            |\n",
            "|Rikers Island                    |190.7             |\n",
            "|Eltingville/Annadale/Prince's Bay|262.08            |\n",
            "|Rossville/Woodrow                |333.90999999999997|\n",
            "|Port Richmond                    |428.9             |\n",
            "|Green-Wood Cemetery              |443.2             |\n",
            "|Great Kills                      |465.05            |\n",
            "|Jamaica Bay                      |541.9200000000001 |\n",
            "|Oakwood                          |549.29            |\n",
            "+---------------------------------+------------------+\n",
            "only showing top 10 rows\n",
            "\n"
          ]
        }
      ]
    },
    {
      "cell_type": "markdown",
      "source": [
        "Certain zones, like major airports and busy city centers, generate the highest taxi revenue, indicating strong demand in these areas. Conversely, some zones with very low revenue suggest limited taxi activity or fewer rides starting there. Understanding this helps drivers focus on profitable areas."
      ],
      "metadata": {
        "id": "ufn4P_xr21Mq"
      },
      "id": "ufn4P_xr21Mq"
    },
    {
      "cell_type": "markdown",
      "source": [
        "### E. Analyze High-Value Trips (Fare > $100)"
      ],
      "metadata": {
        "id": "CrHXdnPsRs5f"
      },
      "id": "CrHXdnPsRs5f"
    },
    {
      "cell_type": "markdown",
      "source": [
        "In this part, we find trips where the fare was more than $100. These are called high-value trips. We look at how many such trips exist, their average distance, and trip time."
      ],
      "metadata": {
        "id": "YBk-mAWGRvin"
      },
      "id": "YBk-mAWGRvin"
    },
    {
      "cell_type": "code",
      "source": [
        "from pyspark.sql.functions import col, avg, stddev,count, min as spark_min, max as spark_max, desc\n",
        "\n",
        "# Add trip duration in minutes\n",
        "df = df.withColumn(\n",
        "    \"trip_duration_minutes\",\n",
        "    (unix_timestamp(\"dropoff_datetime\") - unix_timestamp(\"pickup_datetime\")) / 60\n",
        ")\n",
        "\n",
        "# Filter trips with fare > $100 (high-value trips)\n",
        "high_value_trips = df.filter(col(\"fare_amount\") > 100)\n",
        "\n",
        "# Aggregate summary stats for high-value trips\n",
        "high_value_summary = high_value_trips.select(\n",
        "    count(\"*\").alias(\"total_high_value_trips\"),\n",
        "    avg(\"trip_distance\").alias(\"avg_distance\"),\n",
        "    avg(\"trip_duration_minutes\").alias(\"avg_duration_minutes\"),\n",
        "    avg(\"fare_amount\").alias(\"avg_fare\")\n",
        ").collect()[0]\n",
        "\n",
        "# Print summary\n",
        "print(\"High-Value Trips Analysis:\")\n",
        "print(f\"Total Trips: {high_value_summary['total_high_value_trips']}\")\n",
        "print(f\"Average Distance: {high_value_summary['avg_distance']:.2f} miles\")\n",
        "print(f\"Average Duration: {high_value_summary['avg_duration_minutes']:.2f} minutes\")\n",
        "print(f\"Average Fare: ${high_value_summary['avg_fare']:.2f}\")\n"
      ],
      "metadata": {
        "colab": {
          "base_uri": "https://localhost:8080/"
        },
        "id": "nd3JoTC6UCJG",
        "outputId": "83b0682e-30e9-41bf-8509-fe994262f1e9"
      },
      "id": "nd3JoTC6UCJG",
      "execution_count": 35,
      "outputs": [
        {
          "output_type": "stream",
          "name": "stdout",
          "text": [
            "High-Value Trips Analysis:\n",
            "Total Trips: 21964\n",
            "Average Distance: 27.44 miles\n",
            "Average Duration: 57.39 minutes\n",
            "Average Fare: $192.55\n"
          ]
        }
      ]
    },
    {
      "cell_type": "markdown",
      "source": [
        "High value trips are generally longer and take more time, resulting in higher fares.These trips tend to cover a long distance and take almost an hour on average. Because they last longer and go farther, the fare is much higher compared to regular trips. This shows that high-value trips are generally longer rides with higher earnings."
      ],
      "metadata": {
        "id": "2emAB7hiuMAQ"
      },
      "id": "2emAB7hiuMAQ"
    },
    {
      "cell_type": "markdown",
      "source": [
        "### F. Compare Short vs. Long Trip Profitability"
      ],
      "metadata": {
        "id": "qHF5MFBjR0fn"
      },
      "id": "qHF5MFBjR0fn"
    },
    {
      "cell_type": "markdown",
      "source": [
        "Here, we compare short trips and long trips to see which ones are more profitable. A short trip is < median_distance miles, and a long trip is > median_distance miles. We compare average fare and revenue per mile."
      ],
      "metadata": {
        "id": "VA4kNdOWR5fP"
      },
      "id": "VA4kNdOWR5fP"
    },
    {
      "cell_type": "code",
      "source": [
        "import seaborn as sns\n",
        "import matplotlib.pyplot as plt\n",
        "\n",
        "# Sample the data and convert to Pandas if not already done\n",
        "trip_sample = df.select(\"trip_distance\").sample(False, 0.05).toPandas()\n",
        "\n",
        "# Filter out extreme outliers to better visualize\n",
        "trip_sample = trip_sample[trip_sample[\"trip_distance\"] < 30]\n",
        "\n",
        "# Plot smooth KDE curve\n",
        "plt.figure(figsize=(10, 5))\n",
        "sns.kdeplot(data=trip_sample, x=\"trip_distance\", fill=True, color=\"skyblue\", bw_adjust=1)\n",
        "\n",
        "plt.xlabel(\"Trip Distance (miles)\")\n",
        "plt.ylabel(\"Density\")\n",
        "plt.title(\"Trip Distance Density Plot\")\n",
        "plt.grid(True)\n",
        "plt.show()\n"
      ],
      "metadata": {
        "id": "5czcflTtpTXo",
        "outputId": "305f49bc-b902-4e8a-b548-28c2c536778e",
        "colab": {
          "base_uri": "https://localhost:8080/",
          "height": 487
        }
      },
      "id": "5czcflTtpTXo",
      "execution_count": 40,
      "outputs": [
        {
          "output_type": "display_data",
          "data": {
            "text/plain": [
              "<Figure size 1000x500 with 1 Axes>"
            ],
            "image/png": "[encoded data removed]"
          },
          "metadata": {}
        }
      ]
    },
    {
      "cell_type": "markdown",
      "source": [
        "We can use the median trip distance as the threshold to split short and long trips, because the data is skewed and most trips are short."
      ],
      "metadata": {
        "id": "vR7Z35hwrh8A"
      },
      "id": "vR7Z35hwrh8A"
    },
    {
      "cell_type": "code",
      "source": [
        "from pyspark.sql.functions import avg\n",
        "import numpy as np\n",
        "\n",
        "#Compute the median trip distance using approxQuantile\n",
        "median_distance = df.approxQuantile(\"trip_distance\", [0.5], 0.01)[0]\n",
        "print(f\"📐 Median Trip Distance: {median_distance:.2f} miles\")\n"
      ],
      "metadata": {
        "id": "OOQyyiCur0eB",
        "outputId": "ee376ef5-53ea-4697-a166-92cab0b58863",
        "colab": {
          "base_uri": "https://localhost:8080/"
        }
      },
      "id": "OOQyyiCur0eB",
      "execution_count": 41,
      "outputs": [
        {
          "output_type": "stream",
          "name": "stdout",
          "text": [
            "📐 Median Trip Distance: 1.74 miles\n"
          ]
        }
      ]
    },
    {
      "cell_type": "code",
      "source": [
        "from pyspark.sql.functions import col, avg\n",
        "\n",
        "# Filter trips\n",
        "short_trips = df.filter(col(\"trip_distance\") <= median_distance)\n",
        "long_trips  = df.filter(col(\"trip_distance\") > median_distance)\n",
        "\n",
        "# Compute profitability metrics\n",
        "short_summary = short_trips.withColumn(\"rev_per_mile\", col(\"fare_amount\") / col(\"trip_distance\")) \\\n",
        "    .select(\n",
        "        avg(\"fare_amount\").alias(\"avg_fare_short\"),\n",
        "        avg(\"rev_per_mile\").alias(\"rev_per_mile_short\")\n",
        "    ).collect()[0]\n",
        "\n",
        "long_summary = long_trips.withColumn(\"rev_per_mile\", col(\"fare_amount\") / col(\"trip_distance\")) \\\n",
        "    .select(\n",
        "        avg(\"fare_amount\").alias(\"avg_fare_long\"),\n",
        "        avg(\"rev_per_mile\").alias(\"rev_per_mile_long\")\n",
        "    ).collect()[0]\n",
        "\n",
        "# Display results\n",
        "print(f\"✅ Short trips (≤ {median_distance:.2f} mi): Avg Fare = ${short_summary['avg_fare_short']:.2f}, Revenue/Mile = ${short_summary['rev_per_mile_short']:.2f}\")\n",
        "print(f\"✅ Long trips  (> {median_distance:.2f} mi): Avg Fare = ${long_summary['avg_fare_long']:.2f}, Revenue/Mile = ${long_summary['rev_per_mile_long']:.2f}\")\n"
      ],
      "metadata": {
        "id": "ENKBUk7NsEEI",
        "outputId": "001e4909-5d4e-4b29-d47f-116c0c6dd772",
        "colab": {
          "base_uri": "https://localhost:8080/"
        }
      },
      "id": "ENKBUk7NsEEI",
      "execution_count": 42,
      "outputs": [
        {
          "output_type": "stream",
          "name": "stdout",
          "text": [
            "✅ Short trips (≤ 1.74 mi): Avg Fare = $9.89, Revenue/Mile = $27.07\n",
            "✅ Long trips  (> 1.74 mi): Avg Fare = $27.02, Revenue/Mile = $5.94\n"
          ]
        }
      ]
    },
    {
      "cell_type": "markdown",
      "source": [
        "\n",
        "* Short trips bring in a higher amount of money per mile, even though the total fare is low. These trips are more profitable per distance traveled.\n",
        "* Long trips give more total fare, but since they cover more distance, the revenue per mile is much lower. They're less profitable per mile, but may still be worth it overall due to higher fare totals."
      ],
      "metadata": {
        "id": "iydAegHSsvt4"
      },
      "id": "iydAegHSsvt4"
    },
    {
      "cell_type": "markdown",
      "id": "bcb2c3c5-5601-4b7f-82c1-121c9ba3ad23",
      "metadata": {
        "id": "bcb2c3c5-5601-4b7f-82c1-121c9ba3ad23"
      },
      "source": [
        "## Section 4: Temporal & Time Series Analysis\n",
        "We explore trip activity patterns across time. This includes analyzing the distribution of rides by hour, day of the week, and comparing weekday vs. weekend traffic. Visualizations highlight when NYC sees the most taxi activity."
      ]
    },
    {
      "cell_type": "markdown",
      "id": "cebcf674-9b98-4f40-b8a9-2ffd7852f010",
      "metadata": {
        "id": "cebcf674-9b98-4f40-b8a9-2ffd7852f010"
      },
      "source": [
        "#### 1. Aggregate Trip Volume by Time Intervals (Daily/Monthly/Yearly)"
      ]
    },
    {
      "cell_type": "code",
      "execution_count": null,
      "id": "6f828c7d-da50-4e6e-b521-182d7b363c6e",
      "metadata": {
        "id": "6f828c7d-da50-4e6e-b521-182d7b363c6e"
      },
      "outputs": [],
      "source": [
        "from pyspark.sql.functions import year\n",
        "\n",
        "df = df.filter((year(df.pickup_datetime) >= 2015) & (year(df.pickup_datetime) <= 2025))\n"
      ]
    },
    {
      "cell_type": "code",
      "execution_count": null,
      "id": "b95aa4b9-44c5-4aec-9742-afebd34c6d6a",
      "metadata": {
        "id": "b95aa4b9-44c5-4aec-9742-afebd34c6d6a"
      },
      "outputs": [],
      "source": [
        "df.createOrReplaceTempView(\"trips\")\n",
        "\n",
        "# Daily trip counts\n",
        "daily_trips = spark.sql(\"\"\"\n",
        "SELECT\n",
        "    DATE(pickup_datetime) as date,\n",
        "    COUNT(*) as trip_count\n",
        "FROM trips\n",
        "GROUP BY DATE(pickup_datetime)\n",
        "ORDER BY date\n",
        "\"\"\")\n"
      ]
    },
    {
      "cell_type": "code",
      "execution_count": null,
      "id": "a1960217-0b16-4e0c-b3cc-4eeaf2277d79",
      "metadata": {
        "id": "a1960217-0b16-4e0c-b3cc-4eeaf2277d79"
      },
      "outputs": [],
      "source": [
        "daily_trips.show()"
      ]
    },
    {
      "cell_type": "code",
      "execution_count": null,
      "id": "223bc88c-f933-4238-a420-a7ff7ace7a1d",
      "metadata": {
        "id": "223bc88c-f933-4238-a420-a7ff7ace7a1d"
      },
      "outputs": [],
      "source": [
        "daily_pd = daily_trips.toPandas()\n",
        "import matplotlib.pyplot as plt\n",
        "\n",
        "plt.figure(figsize=(12, 6))\n",
        "plt.plot(daily_pd['date'], daily_pd['trip_count'], marker='o')\n",
        "plt.title(\"Daily NYC Trip Volume\")\n",
        "plt.xlabel(\"Date\")\n",
        "plt.ylabel(\"Trip Count\")\n",
        "plt.grid(True)\n",
        "plt.xticks(rotation=45)\n",
        "plt.tight_layout()\n",
        "plt.show()\n"
      ]
    },
    {
      "cell_type": "code",
      "execution_count": null,
      "id": "7dccad41-7a5f-4f28-b874-25548e80365d",
      "metadata": {
        "id": "7dccad41-7a5f-4f28-b874-25548e80365d"
      },
      "outputs": [],
      "source": [
        "monthly_trips = spark.sql(\"\"\"\n",
        "SELECT\n",
        "    YEAR(pickup_datetime) AS year,\n",
        "    MONTH(pickup_datetime) AS month,\n",
        "    COUNT(*) AS trip_count\n",
        "FROM trips\n",
        "GROUP BY YEAR(pickup_datetime), MONTH(pickup_datetime)\n",
        "ORDER BY year, month\n",
        "\"\"\")"
      ]
    },
    {
      "cell_type": "code",
      "execution_count": null,
      "id": "67647a9e-a2e8-4426-9e43-02fe7e997229",
      "metadata": {
        "id": "67647a9e-a2e8-4426-9e43-02fe7e997229"
      },
      "outputs": [],
      "source": [
        "monthly_trips.show()"
      ]
    },
    {
      "cell_type": "code",
      "execution_count": null,
      "id": "af68cc76-f3a5-4ddb-ba8f-eec2d9005358",
      "metadata": {
        "id": "af68cc76-f3a5-4ddb-ba8f-eec2d9005358"
      },
      "outputs": [],
      "source": [
        "monthly_pd = monthly_trips.toPandas()\n",
        "monthly_pd['month_start'] = pd.to_datetime(monthly_pd[['year', 'month']].assign(day=1))\n",
        "import matplotlib.pyplot as plt\n",
        "\n",
        "plt.figure(figsize=(12, 5))\n",
        "plt.plot(monthly_pd['month_start'], monthly_pd['trip_count'], marker='o', linestyle='-')\n",
        "plt.title(\"Monthly Trip Volume\")\n",
        "plt.xlabel(\"Month\")\n",
        "plt.ylabel(\"Number of Trips\")\n",
        "plt.grid(True)\n",
        "plt.xticks(rotation=45)\n",
        "plt.tight_layout()\n",
        "plt.show()\n"
      ]
    },
    {
      "cell_type": "code",
      "execution_count": null,
      "id": "f20e3830-2ef6-4d44-8271-fc187d9bf93f",
      "metadata": {
        "id": "f20e3830-2ef6-4d44-8271-fc187d9bf93f"
      },
      "outputs": [],
      "source": [
        "yearly_trips = spark.sql(\"\"\"\n",
        "SELECT\n",
        "    YEAR(pickup_datetime) AS year,\n",
        "    COUNT(*) AS trip_count\n",
        "FROM trips\n",
        "GROUP BY YEAR(pickup_datetime)\n",
        "ORDER BY year\n",
        "\"\"\")\n"
      ]
    },
    {
      "cell_type": "code",
      "execution_count": null,
      "id": "d9c79f4d-e4e8-44f6-8c50-3c153826b93d",
      "metadata": {
        "id": "d9c79f4d-e4e8-44f6-8c50-3c153826b93d"
      },
      "outputs": [],
      "source": [
        "yearly_trips.show()"
      ]
    },
    {
      "cell_type": "code",
      "execution_count": null,
      "id": "8883296a-5467-439d-922b-9318497cec9b",
      "metadata": {
        "id": "8883296a-5467-439d-922b-9318497cec9b"
      },
      "outputs": [],
      "source": [
        "import matplotlib.pyplot as plt\n",
        "from matplotlib.ticker import MaxNLocator\n",
        "\n",
        "plt.figure(figsize=(8, 5))\n",
        "plt.bar(yearly_pd['year'], yearly_pd['trip_count'], color='skyblue')\n",
        "plt.title(\"Yearly Trip Volume\")\n",
        "plt.xlabel(\"Year\")\n",
        "plt.ylabel(\"Number of Trips\")\n",
        "plt.grid(axis='y')\n",
        "\n",
        "# Ensure x-axis only shows whole numbers\n",
        "plt.gca().xaxis.set_major_locator(MaxNLocator(integer=True))\n",
        "\n",
        "plt.tight_layout()\n",
        "plt.show()\n"
      ]
    },
    {
      "cell_type": "markdown",
      "id": "337fb1af-f9fe-433b-af5f-2d6a6e94156d",
      "metadata": {
        "id": "337fb1af-f9fe-433b-af5f-2d6a6e94156d"
      },
      "source": [
        "#### 2. Study Patterns by Hour / Day of Week / Month"
      ]
    },
    {
      "cell_type": "code",
      "execution_count": null,
      "id": "b611c854-b642-4eb9-b894-1b4843bdd881",
      "metadata": {
        "id": "b611c854-b642-4eb9-b894-1b4843bdd881"
      },
      "outputs": [],
      "source": [
        "# Required libraries\n",
        "from pyspark.sql.functions import hour, dayofweek, date_format, col\n",
        "import matplotlib.pyplot as plt\n",
        "import pandas as pd"
      ]
    },
    {
      "cell_type": "code",
      "execution_count": null,
      "id": "0ac95ca9-e7e2-4013-a67f-3a2b54c6dcb6",
      "metadata": {
        "id": "0ac95ca9-e7e2-4013-a67f-3a2b54c6dcb6"
      },
      "outputs": [],
      "source": [
        "df.createOrReplaceTempView(\"trips\")\n",
        "\n",
        "trips_by_hour = spark.sql(\"\"\"\n",
        "    SELECT hour(pickup_datetime) AS hour, COUNT(*) AS trip_count\n",
        "    FROM trips\n",
        "    GROUP BY hour\n",
        "    ORDER BY hour\n",
        "\"\"\")\n"
      ]
    },
    {
      "cell_type": "code",
      "execution_count": null,
      "id": "a65c606f-0484-4701-93a8-5af9cfc88921",
      "metadata": {
        "id": "a65c606f-0484-4701-93a8-5af9cfc88921"
      },
      "outputs": [],
      "source": [
        "trips_by_hour.show()"
      ]
    },
    {
      "cell_type": "code",
      "execution_count": null,
      "id": "8c6f6e95-ee65-4b6f-94b3-57c1f1a92dcc",
      "metadata": {
        "id": "8c6f6e95-ee65-4b6f-94b3-57c1f1a92dcc"
      },
      "outputs": [],
      "source": [
        "import matplotlib.pyplot as plt\n",
        "pdf = trips_by_hour.toPandas()\n",
        "\n",
        "# Make sure data is sorted by hour\n",
        "pdf = pdf.sort_values(\"hour\")\n",
        "\n",
        "plt.figure(figsize=(10, 6))\n",
        "plt.plot(pdf[\"hour\"], pdf[\"trip_count\"], marker='o', linestyle='-', color='blue')\n",
        "\n",
        "plt.title(\"Trips by Hour of Day\")\n",
        "plt.xlabel(\"Hour of Day\")\n",
        "plt.ylabel(\"Number of Trips\")\n",
        "plt.xticks(range(0, 24))\n",
        "plt.grid(True, linestyle='--', alpha=0.6)\n",
        "plt.tight_layout()\n",
        "plt.show()\n"
      ]
    },
    {
      "cell_type": "code",
      "execution_count": null,
      "id": "19468caf-4a2b-4084-89a0-34c2b606eea0",
      "metadata": {
        "id": "19468caf-4a2b-4084-89a0-34c2b606eea0"
      },
      "outputs": [],
      "source": [
        "trips_by_dow = spark.sql(\"\"\"\n",
        "    SELECT dayofweek(pickup_datetime) AS day_of_week, COUNT(*) AS trip_count\n",
        "    FROM trips\n",
        "    GROUP BY day_of_week\n",
        "    ORDER BY day_of_week\n",
        "\"\"\")\n",
        "\n",
        "trips_by_dow.show()"
      ]
    },
    {
      "cell_type": "code",
      "execution_count": null,
      "id": "b0526dab-20cd-4ade-a12e-7c8c2d6041e1",
      "metadata": {
        "id": "b0526dab-20cd-4ade-a12e-7c8c2d6041e1"
      },
      "outputs": [],
      "source": [
        "pdf_dow = trips_by_dow.toPandas().sort_values(\"day_of_week\")\n",
        "\n",
        "# Optional: Replace numbers with day names (1 = Sunday, 7 = Saturday)\n",
        "import calendar\n",
        "pdf_dow[\"day_name\"] = pdf_dow[\"day_of_week\"].apply(lambda x: calendar.day_name[(x % 7)])\n",
        "\n",
        "# Plot\n",
        "plt.figure(figsize=(10, 5))\n",
        "plt.plot(pdf_dow[\"day_name\"], pdf_dow[\"trip_count\"], marker='o')\n",
        "plt.title(\"Trips by Day of Week\")\n",
        "plt.xlabel(\"Day of Week\")\n",
        "plt.ylabel(\"Number of Trips\")\n",
        "plt.grid(True)\n",
        "plt.tight_layout()\n",
        "plt.show()"
      ]
    },
    {
      "cell_type": "code",
      "execution_count": null,
      "id": "83706abb-afa8-4e08-a137-d8de52793501",
      "metadata": {
        "id": "83706abb-afa8-4e08-a137-d8de52793501"
      },
      "outputs": [],
      "source": [
        "trips_by_month = spark.sql(\"\"\"\n",
        "    SELECT month(pickup_datetime) AS month, COUNT(*) AS trip_count\n",
        "    FROM trips\n",
        "    GROUP BY month\n",
        "    ORDER BY month\n",
        "\"\"\")\n",
        "trips_by_month.show()\n",
        "\n",
        "pdf_month = trips_by_month.toPandas().sort_values(\"month\")\n",
        "\n",
        "# Optional: Month name mapping\n",
        "pdf_month[\"month_name\"] = pdf_month[\"month\"].apply(lambda x: calendar.month_name[x])\n",
        "\n",
        "# Plot\n",
        "plt.figure(figsize=(10, 5))\n",
        "plt.plot(pdf_month[\"month_name\"], pdf_month[\"trip_count\"], marker='o')\n",
        "plt.title(\"Trips by Month\")\n",
        "plt.xlabel(\"Month\")\n",
        "plt.ylabel(\"Number of Trips\")\n",
        "plt.grid(True)\n",
        "plt.tight_layout()\n",
        "plt.show()\n"
      ]
    },
    {
      "cell_type": "markdown",
      "id": "58620ea3-468d-4f15-ad67-3ce89a48b250",
      "metadata": {
        "id": "58620ea3-468d-4f15-ad67-3ce89a48b250"
      },
      "source": [
        "#### 3. Decompose Time Series (Trend, Seasonality)"
      ]
    },
    {
      "cell_type": "code",
      "execution_count": null,
      "id": "a60c5668-e133-48da-b45e-bcf00c72f50c",
      "metadata": {
        "id": "a60c5668-e133-48da-b45e-bcf00c72f50c"
      },
      "outputs": [],
      "source": [
        "pdf_daily = daily_trips.toPandas().sort_values(\"date\")\n",
        "pdf_daily[\"date\"] = pd.to_datetime(pdf_daily[\"date\"])\n",
        "pdf_daily.set_index(\"date\", inplace=True)\n"
      ]
    },
    {
      "cell_type": "code",
      "execution_count": null,
      "id": "4956447a-f5c3-4f83-96fe-791c79da5a75",
      "metadata": {
        "id": "4956447a-f5c3-4f83-96fe-791c79da5a75"
      },
      "outputs": [],
      "source": [
        "from statsmodels.tsa.seasonal import seasonal_decompose\n",
        "\n",
        "# Ensure data is regularly spaced (daily), or reindex with missing days filled if needed\n",
        "# You can interpolate or fill missing dates if necessary\n",
        "\n",
        "# Decompose (model='additive' or 'multiplicative')\n",
        "result = seasonal_decompose(pdf_daily[\"trip_count\"], model='additive', period=7)  # weekly seasonality\n",
        "\n",
        "# Plot\n",
        "result.plot()\n",
        "plt.tight_layout()\n",
        "plt.show()\n"
      ]
    },
    {
      "cell_type": "code",
      "execution_count": null,
      "id": "54153e37-ab0a-4a52-b874-5bbdbc45ebfd",
      "metadata": {
        "id": "54153e37-ab0a-4a52-b874-5bbdbc45ebfd"
      },
      "outputs": [],
      "source": [
        "# pdf_monthly = monthly_trips.toPandas().sort_values(\"month\")\n",
        "\n",
        "# # Convert month to datetime and set index\n",
        "# pdf_monthly[\"month\"] = pd.to_datetime(pdf_monthly[\"month\"])\n",
        "# pdf_monthly.set_index(\"month\", inplace=True)\n",
        "# pdf_monthly = pdf_monthly.asfreq('MS')  # MS = Month Start\n"
      ]
    },
    {
      "cell_type": "code",
      "execution_count": null,
      "id": "eb8c5b34-4308-4916-80e0-07a435386a85",
      "metadata": {
        "id": "eb8c5b34-4308-4916-80e0-07a435386a85"
      },
      "outputs": [],
      "source": [
        "# from statsmodels.tsa.seasonal import seasonal_decompose\n",
        "# import matplotlib.pyplot as plt\n",
        "\n",
        "# # Perform decomposition with yearly seasonality (period=12)\n",
        "# result = seasonal_decompose(pdf_monthly[\"trip_count\"], model='additive', period=12)\n",
        "\n",
        "# # Plot the decomposed components\n",
        "# result.plot()\n",
        "# plt.tight_layout()\n",
        "# plt.show()\n"
      ]
    },
    {
      "cell_type": "markdown",
      "id": "e3c82f98-25eb-465e-9916-4e45482e3414",
      "metadata": {
        "id": "e3c82f98-25eb-465e-9916-4e45482e3414"
      },
      "source": [
        "#### Rolling Average of Daily Trips or Revenue"
      ]
    },
    {
      "cell_type": "code",
      "execution_count": null,
      "id": "0a4ef72c-8b8f-4b5a-81fc-450ae1e0c85e",
      "metadata": {
        "id": "0a4ef72c-8b8f-4b5a-81fc-450ae1e0c85e"
      },
      "outputs": [],
      "source": [
        "# from pyspark.sql.window import Window\n",
        "# from pyspark.sql.functions import avg\n",
        "\n",
        "# # Define a window of previous 6 days + current day = 7-day rolling average\n",
        "# window_spec = Window.orderBy(\"trip_date\").rowsBetween(-6, 0)\n",
        "\n",
        "# df_rolling = daily_trips.withColumn(\"rolling_avg_7d\", avg(\"trip_count\").over(window_spec))\n",
        "\n",
        "# df_rolling.show()\n"
      ]
    },
    {
      "cell_type": "code",
      "execution_count": null,
      "id": "f8e18478-e72a-4b6b-b40c-1e1b8ac89211",
      "metadata": {
        "id": "f8e18478-e72a-4b6b-b40c-1e1b8ac89211"
      },
      "outputs": [],
      "source": [
        "pdf[\"rolling_avg_7d\"] = pdf[\"trip_count\"].rolling(window=7).mean()\n"
      ]
    },
    {
      "cell_type": "markdown",
      "id": "dde80a10-0e7c-4bb8-b730-fb23f37ad383",
      "metadata": {
        "id": "dde80a10-0e7c-4bb8-b730-fb23f37ad383"
      },
      "source": [
        "#### 6. Time-Based Clustering (e.g., Peak vs. Off-Peak)\n"
      ]
    },
    {
      "cell_type": "code",
      "execution_count": null,
      "id": "d201c0d6-53dc-4494-a58f-2a1bc24cb2cb",
      "metadata": {
        "id": "d201c0d6-53dc-4494-a58f-2a1bc24cb2cb"
      },
      "outputs": [],
      "source": [
        "from pyspark.sql.functions import col, hour, when\n",
        "\n",
        "# Step 1: Extract hour from pickup_datetime\n",
        "df = df.withColumn(\"hour\", hour(col(\"pickup_datetime\")))\n",
        "\n",
        "# Step 2: Create time_segment based on hour\n",
        "df = df.withColumn(\"time_segment\",\n",
        "    when((col(\"hour\") >= 7) & (col(\"hour\") <= 9), \"morning_peak\")\n",
        "    .when((col(\"hour\") >= 17) & (col(\"hour\") <= 19), \"evening_peak\")\n",
        "    .otherwise(\"off_peak\")\n",
        ")\n"
      ]
    },
    {
      "cell_type": "code",
      "execution_count": null,
      "id": "ce8320af-9ef2-4311-ad00-fa807647535e",
      "metadata": {
        "id": "ce8320af-9ef2-4311-ad00-fa807647535e"
      },
      "outputs": [],
      "source": [
        "trips_by_segment = df.groupBy(\"time_segment\").count().orderBy(\"time_segment\")\n",
        "trips_by_segment.show()\n"
      ]
    },
    {
      "cell_type": "code",
      "execution_count": null,
      "id": "15384ef6-1f6d-4c5e-af50-ffd895eefc24",
      "metadata": {
        "id": "15384ef6-1f6d-4c5e-af50-ffd895eefc24"
      },
      "outputs": [],
      "source": [
        "pdf = trips_by_segment.toPandas()"
      ]
    },
    {
      "cell_type": "code",
      "execution_count": null,
      "id": "b39673bf-4627-4e41-aba1-56323cc84ced",
      "metadata": {
        "id": "b39673bf-4627-4e41-aba1-56323cc84ced"
      },
      "outputs": [],
      "source": [
        "import matplotlib.pyplot as plt\n",
        "import seaborn as sns\n",
        "\n",
        "sns.barplot(data=pdf, x=\"time_segment\", y=\"count\", order=[\"morning_peak\", \"off_peak\", \"evening_peak\"])\n",
        "plt.title(\"Number of Trips by Time Segment\")\n",
        "plt.xlabel(\"Time Segment\")\n",
        "plt.ylabel(\"Number of Trips\")\n",
        "plt.show()\n"
      ]
    },
    {
      "cell_type": "markdown",
      "id": "6add01a4-3679-4010-a682-9304bdbb6f2a",
      "metadata": {
        "id": "6add01a4-3679-4010-a682-9304bdbb6f2a"
      },
      "source": [
        "#### 7. Build Models to Forecast Demand (ARIMA, Prophet)\n"
      ]
    },
    {
      "cell_type": "code",
      "execution_count": null,
      "id": "e104cb25-ba6f-498c-80b7-e269583c97af",
      "metadata": {
        "id": "e104cb25-ba6f-498c-80b7-e269583c97af"
      },
      "outputs": [],
      "source": [
        "!pip install prophet"
      ]
    },
    {
      "cell_type": "code",
      "execution_count": null,
      "id": "9a5efd5e-5957-4e02-b645-2b61dd170358",
      "metadata": {
        "id": "9a5efd5e-5957-4e02-b645-2b61dd170358"
      },
      "outputs": [],
      "source": [
        "from prophet import Prophet\n",
        "\n",
        "pdf = daily_trips.toPandas()\n",
        "pdf = pdf.rename(columns={\"date\": \"ds\", \"trip_count\": \"y\"})\n",
        "\n",
        "model = Prophet()\n",
        "model.fit(pdf)\n",
        "\n",
        "future = model.make_future_dataframe(periods=30)\n",
        "forecast = model.predict(future)\n",
        "\n",
        "# Only main forecast plot\n",
        "fig = model.plot(forecast)\n",
        "fig.show()\n"
      ]
    },
    {
      "cell_type": "code",
      "execution_count": null,
      "id": "791a6709-8054-4466-922f-499f47ce3aab",
      "metadata": {
        "id": "791a6709-8054-4466-922f-499f47ce3aab"
      },
      "outputs": [],
      "source": []
    },
    {
      "cell_type": "code",
      "execution_count": null,
      "id": "cc787352-d3fd-4494-b7f8-524c51086488",
      "metadata": {
        "id": "cc787352-d3fd-4494-b7f8-524c51086488"
      },
      "outputs": [],
      "source": []
    },
    {
      "cell_type": "code",
      "execution_count": null,
      "id": "91ec3670-0d91-4ef3-9987-a92ff9ed5bc8",
      "metadata": {
        "id": "91ec3670-0d91-4ef3-9987-a92ff9ed5bc8"
      },
      "outputs": [],
      "source": []
    },
    {
      "cell_type": "code",
      "execution_count": null,
      "id": "aee9a155-2e36-45a8-9552-fc6963b723d0",
      "metadata": {
        "id": "aee9a155-2e36-45a8-9552-fc6963b723d0"
      },
      "outputs": [],
      "source": []
    },
    {
      "cell_type": "code",
      "execution_count": null,
      "id": "5ee3b18f-58c5-4b50-810c-9c5c76588b2d",
      "metadata": {
        "id": "5ee3b18f-58c5-4b50-810c-9c5c76588b2d"
      },
      "outputs": [],
      "source": []
    },
    {
      "cell_type": "markdown",
      "id": "35c2f72a-d56f-4214-9ac5-e5963342603d",
      "metadata": {
        "id": "35c2f72a-d56f-4214-9ac5-e5963342603d"
      },
      "source": [
        "## Section 5: Trip Fare Prediction"
      ]
    },
    {
      "cell_type": "code",
      "execution_count": null,
      "id": "1d785277-a677-4c56-a74b-ffbad779b715",
      "metadata": {
        "id": "1d785277-a677-4c56-a74b-ffbad779b715"
      },
      "outputs": [],
      "source": []
    },
    {
      "cell_type": "code",
      "execution_count": null,
      "id": "5206dc51-a25c-4cbd-8024-bb3ceee02850",
      "metadata": {
        "id": "5206dc51-a25c-4cbd-8024-bb3ceee02850"
      },
      "outputs": [],
      "source": []
    },
    {
      "cell_type": "code",
      "execution_count": null,
      "id": "6528a346-a8cb-4ab2-9c09-9023316687c2",
      "metadata": {
        "id": "6528a346-a8cb-4ab2-9c09-9023316687c2"
      },
      "outputs": [],
      "source": []
    },
    {
      "cell_type": "code",
      "execution_count": null,
      "id": "2916e891-a5f8-4b8e-8027-eedd849b867b",
      "metadata": {
        "id": "2916e891-a5f8-4b8e-8027-eedd849b867b"
      },
      "outputs": [],
      "source": []
    },
    {
      "cell_type": "code",
      "execution_count": null,
      "id": "aee22c21-4aa0-48fe-8490-303f9c965790",
      "metadata": {
        "id": "aee22c21-4aa0-48fe-8490-303f9c965790"
      },
      "outputs": [],
      "source": []
    },
    {
      "cell_type": "code",
      "execution_count": null,
      "id": "28ab62fe-1a1e-4066-b6b0-dac7e1e384b3",
      "metadata": {
        "id": "28ab62fe-1a1e-4066-b6b0-dac7e1e384b3"
      },
      "outputs": [],
      "source": []
    }
  ],
  "metadata": {
    "kernelspec": {
      "display_name": "Python 3 (ipykernel)",
      "language": "python",
      "name": "python3"
    },
    "language_info": {
      "codemirror_mode": {
        "name": "ipython",
        "version": 3
      },
      "file_extension": ".py",
      "mimetype": "text/x-python",
      "name": "python",
      "nbconvert_exporter": "python",
      "pygments_lexer": "ipython3",
      "version": "3.12.4"
    },
    "colab": {
      "provenance": [],
      "include_colab_link": true
    }
  },
  "nbformat": 4,
  "nbformat_minor": 5
}